{
 "cells": [
  {
   "cell_type": "markdown",
   "id": "4d02b8a4",
   "metadata": {},
   "source": [
    "# NLP Project 2 - Anna Zenou and Timothé Vital"
   ]
  },
  {
   "cell_type": "markdown",
   "id": "fbdd8168",
   "metadata": {},
   "source": [
    "## Book recommendation LLM"
   ]
  },
  {
   "cell_type": "markdown",
   "id": "387c0a5a",
   "metadata": {},
   "source": [
    "### Imports"
   ]
  },
  {
   "cell_type": "code",
   "execution_count": 2,
   "id": "47eb2166",
   "metadata": {},
   "outputs": [
    {
     "name": "stderr",
     "output_type": "stream",
     "text": [
      "C:\\Users\\timot\\anaconda3\\lib\\site-packages\\scipy\\__init__.py:146: UserWarning: A NumPy version >=1.16.5 and <1.23.0 is required for this version of SciPy (detected version 1.26.3\n",
      "  warnings.warn(f\"A NumPy version >={np_minversion} and <{np_maxversion}\"\n"
     ]
    }
   ],
   "source": [
    "import pandas as pd\n",
    "import requests\n",
    "from bs4 import BeautifulSoup\n",
    "import nltk\n",
    "from nltk.corpus import stopwords\n",
    "from nltk.tokenize import word_tokenize, RegexpTokenizer\n",
    "from textblob import TextBlob\n",
    "from tqdm import tqdm\n",
    "import seaborn as sns\n",
    "import matplotlib.pyplot as plt\n",
    "from collections import Counter\n",
    "from nltk.util import ngrams\n",
    "import sklearn\n",
    "from sklearn.feature_extraction.text import CountVectorizer\n",
    "from wordcloud import WordCloud\n",
    "import joblib\n",
    "from sklearn.manifold import TSNE\n",
    "from sklearn.cluster import KMeans\n",
    "from sklearn.metrics.pairwise import cosine_similarity\n",
    "import numpy as np\n",
    "from gensim.models import Word2Vec\n",
    "import tensorflow as tf\n",
    "from sklearn.metrics.pairwise import cosine_distances\n",
    "from sklearn.feature_extraction.text import TfidfVectorizer\n",
    "from sklearn.model_selection import train_test_split\n",
    "from sklearn.model_selection import GridSearchCV\n",
    "from sklearn.ensemble import RandomForestClassifier\n",
    "from joblib import Parallel, delayed, parallel_backend\n",
    "from transformers import pipeline"
   ]
  },
  {
   "cell_type": "markdown",
   "id": "621571bc",
   "metadata": {},
   "source": [
    "### Dataset exploration"
   ]
  },
  {
   "cell_type": "markdown",
   "id": "d5445d79",
   "metadata": {},
   "source": [
    "The Dataset is a gathering of english book reviews from the Goodreads website (https://www.goodreads.com/). "
   ]
  },
  {
   "cell_type": "markdown",
   "id": "e0f53b36",
   "metadata": {},
   "source": [
    "Each row corresponds to a review written by a user on a specific book"
   ]
  },
  {
   "cell_type": "markdown",
   "id": "3811abea",
   "metadata": {},
   "source": [
    "No new API keys are generated for developers so we found a dataset on kaggle, we still have the cleaning and exploration to do"
   ]
  },
  {
   "cell_type": "code",
   "execution_count": 358,
   "id": "b378ff42",
   "metadata": {},
   "outputs": [],
   "source": [
    "df = pd.read_csv(\"D:/s9/NLP/projet3/goodreads_reviews/goodreads_train.csv\")"
   ]
  },
  {
   "cell_type": "code",
   "execution_count": 4,
   "id": "efc7f0cb",
   "metadata": {},
   "outputs": [
    {
     "data": {
      "text/plain": [
       "(900000, 11)"
      ]
     },
     "execution_count": 4,
     "metadata": {},
     "output_type": "execute_result"
    }
   ],
   "source": [
    "df.shape"
   ]
  },
  {
   "cell_type": "code",
   "execution_count": 5,
   "id": "98e80721",
   "metadata": {
    "scrolled": false
   },
   "outputs": [
    {
     "data": {
      "text/html": [
       "<div>\n",
       "<style scoped>\n",
       "    .dataframe tbody tr th:only-of-type {\n",
       "        vertical-align: middle;\n",
       "    }\n",
       "\n",
       "    .dataframe tbody tr th {\n",
       "        vertical-align: top;\n",
       "    }\n",
       "\n",
       "    .dataframe thead th {\n",
       "        text-align: right;\n",
       "    }\n",
       "</style>\n",
       "<table border=\"1\" class=\"dataframe\">\n",
       "  <thead>\n",
       "    <tr style=\"text-align: right;\">\n",
       "      <th></th>\n",
       "      <th>user_id</th>\n",
       "      <th>book_id</th>\n",
       "      <th>review_id</th>\n",
       "      <th>rating</th>\n",
       "      <th>review_text</th>\n",
       "      <th>date_added</th>\n",
       "      <th>date_updated</th>\n",
       "      <th>read_at</th>\n",
       "      <th>started_at</th>\n",
       "      <th>n_votes</th>\n",
       "      <th>n_comments</th>\n",
       "    </tr>\n",
       "  </thead>\n",
       "  <tbody>\n",
       "    <tr>\n",
       "      <th>0</th>\n",
       "      <td>8842281e1d1347389f2ab93d60773d4d</td>\n",
       "      <td>18245960</td>\n",
       "      <td>dfdbb7b0eb5a7e4c26d59a937e2e5feb</td>\n",
       "      <td>5</td>\n",
       "      <td>This is a special book. It started slow for ab...</td>\n",
       "      <td>Sun Jul 30 07:44:10 -0700 2017</td>\n",
       "      <td>Wed Aug 30 00:00:26 -0700 2017</td>\n",
       "      <td>Sat Aug 26 12:05:52 -0700 2017</td>\n",
       "      <td>Tue Aug 15 13:23:18 -0700 2017</td>\n",
       "      <td>28</td>\n",
       "      <td>1</td>\n",
       "    </tr>\n",
       "  </tbody>\n",
       "</table>\n",
       "</div>"
      ],
      "text/plain": [
       "                            user_id   book_id  \\\n",
       "0  8842281e1d1347389f2ab93d60773d4d  18245960   \n",
       "\n",
       "                          review_id  rating  \\\n",
       "0  dfdbb7b0eb5a7e4c26d59a937e2e5feb       5   \n",
       "\n",
       "                                         review_text  \\\n",
       "0  This is a special book. It started slow for ab...   \n",
       "\n",
       "                       date_added                    date_updated  \\\n",
       "0  Sun Jul 30 07:44:10 -0700 2017  Wed Aug 30 00:00:26 -0700 2017   \n",
       "\n",
       "                          read_at                      started_at  n_votes  \\\n",
       "0  Sat Aug 26 12:05:52 -0700 2017  Tue Aug 15 13:23:18 -0700 2017       28   \n",
       "\n",
       "   n_comments  \n",
       "0           1  "
      ]
     },
     "execution_count": 5,
     "metadata": {},
     "output_type": "execute_result"
    }
   ],
   "source": [
    "df.head(1)"
   ]
  },
  {
   "cell_type": "code",
   "execution_count": 360,
   "id": "f425d2e8",
   "metadata": {
    "scrolled": false
   },
   "outputs": [
    {
     "name": "stdout",
     "output_type": "stream",
     "text": [
      "    Count  Percentage\n",
      "4  313688   34.854222\n",
      "5  265007   29.445222\n",
      "3  188972   20.996889\n",
      "2   72627    8.069667\n",
      "0   30988    3.443111\n",
      "1   28718    3.190889\n"
     ]
    }
   ],
   "source": [
    "rating_counts = df['rating'].value_counts()\n",
    "rating_percentages = df['rating'].value_counts(normalize=True) * 100  # Convert to percentage\n",
    "\n",
    "# Combine counts and percentages into a single DataFrame\n",
    "rating_summary = pd.DataFrame({'Count': rating_counts, 'Percentage': rating_percentages})\n",
    "\n",
    "print(rating_summary)"
   ]
  },
  {
   "cell_type": "markdown",
   "id": "2f80a0b5",
   "metadata": {},
   "source": [
    "The dataset contains 900 000 unique reviews, we are going to narrow it down for the training of the model"
   ]
  },
  {
   "cell_type": "markdown",
   "id": "1b532c66",
   "metadata": {},
   "source": [
    "We will use this function when we need to convert a book id into its corresponding title. Converting the whole column for the whole dataset would take hours so we wont apply it to the whole dataframe"
   ]
  },
  {
   "cell_type": "code",
   "execution_count": 6,
   "id": "7a1e3dc6",
   "metadata": {},
   "outputs": [],
   "source": [
    "# This function opens the page corresponding to the book and scraps the title\n",
    "def get_book_name(book_id):\n",
    "    url = f'https://www.goodreads.com/book/show/{book_id}'\n",
    "    response = requests.get(url)\n",
    "    soup = BeautifulSoup(response.content, 'html.parser')\n",
    "\n",
    "    # Find the element containing the book's name\n",
    "    title_element = soup.find('h1', {'class': 'Text Text__title1', 'data-testid': 'bookTitle'})\n",
    "    if title_element:\n",
    "        return title_element.text.strip()\n",
    "    else:\n",
    "        return 'Title not found'"
   ]
  },
  {
   "cell_type": "code",
   "execution_count": 8,
   "id": "7f2c6ab1",
   "metadata": {},
   "outputs": [
    {
     "name": "stdout",
     "output_type": "stream",
     "text": [
      "There are 25474 different reviewed books in this dataset\n"
     ]
    }
   ],
   "source": [
    "unique_books = df['book_id'].nunique()\n",
    "print(f\"There are {unique_books} different reviewed books in this dataset\")"
   ]
  },
  {
   "cell_type": "code",
   "execution_count": 9,
   "id": "4e3c6811",
   "metadata": {
    "scrolled": true
   },
   "outputs": [
    {
     "data": {
      "text/plain": [
       "11870085    1734\n",
       "11235712    1505\n",
       "2767052     1378\n",
       "7260188     1273\n",
       "16096824    1153\n",
       "Name: book_id, dtype: int64"
      ]
     },
     "execution_count": 9,
     "metadata": {},
     "output_type": "execute_result"
    }
   ],
   "source": [
    "book_counts = df['book_id'].value_counts()\n",
    "book_counts.head(5)"
   ]
  },
  {
   "cell_type": "markdown",
   "id": "498ef811",
   "metadata": {},
   "source": [
    "### Narrowing down the number of reviews."
   ]
  },
  {
   "cell_type": "markdown",
   "id": "b55606bb",
   "metadata": {},
   "source": [
    "We will keep 1000 books that have at least 50 reviews, and keep 50 reviews for each book."
   ]
  },
  {
   "cell_type": "code",
   "execution_count": 10,
   "id": "f858e939",
   "metadata": {},
   "outputs": [],
   "source": [
    "# Step 1: Identify the 1000 most commented (reviewed) books\n",
    "most_commented_books = df['book_id'].value_counts().head(1000).index\n",
    "\n",
    "# Filter the original DataFrame to keep only the most commented books\n",
    "filtered_df = df[df['book_id'].isin(most_commented_books)]\n",
    "\n",
    "# Step 2: Calculate average ratings for these books\n",
    "average_ratings = filtered_df.groupby('book_id')['rating'].mean()\n",
    "\n",
    "# Step 3: Select the top 1000 books based on average ratings\n",
    "top_books = average_ratings.nlargest(1000)\n",
    "\n",
    "# Create a DataFrame of the top books and name it selected_reviews\n",
    "selected_reviews = pd.DataFrame({'book_id': top_books.index, 'average_rating': top_books.values})"
   ]
  },
  {
   "cell_type": "code",
   "execution_count": 11,
   "id": "eb934551",
   "metadata": {},
   "outputs": [
    {
     "data": {
      "text/plain": [
       "(1000, 2)"
      ]
     },
     "execution_count": 11,
     "metadata": {},
     "output_type": "execute_result"
    }
   ],
   "source": [
    "selected_reviews.shape"
   ]
  },
  {
   "cell_type": "code",
   "execution_count": 12,
   "id": "66b26ee8",
   "metadata": {},
   "outputs": [],
   "source": [
    "# Filter the original DataFrame to keep only the reviews of the selected books\n",
    "filtered_df = df[df['book_id'].isin(selected_reviews['book_id'])]\n",
    "\n",
    "# Initialize an empty DataFrame to store the samples\n",
    "sampled_reviews = pd.DataFrame()\n",
    "\n",
    "# Sample 50 random comments for each book\n",
    "for book_id in selected_reviews['book_id']:\n",
    "    sampled_reviews = pd.concat([sampled_reviews, filtered_df[filtered_df['book_id'] == book_id].sample(n=50, replace=True)])\n",
    "\n",
    "# Reset index of the final DataFrame\n",
    "sampled_reviews = sampled_reviews.reset_index(drop=True)"
   ]
  },
  {
   "cell_type": "code",
   "execution_count": 13,
   "id": "2053f44f",
   "metadata": {},
   "outputs": [
    {
     "data": {
      "text/plain": [
       "(50000, 11)"
      ]
     },
     "execution_count": 13,
     "metadata": {},
     "output_type": "execute_result"
    }
   ],
   "source": [
    "sampled_reviews.shape"
   ]
  },
  {
   "cell_type": "code",
   "execution_count": 14,
   "id": "6e880b56",
   "metadata": {},
   "outputs": [
    {
     "name": "stdout",
     "output_type": "stream",
     "text": [
      "There are 1000 different reviewed books in this dataset\n"
     ]
    }
   ],
   "source": [
    "unique_books = sampled_reviews['book_id'].nunique()\n",
    "print(f\"There are {unique_books} different reviewed books in this dataset\")"
   ]
  },
  {
   "cell_type": "markdown",
   "id": "b43bed9e",
   "metadata": {},
   "source": [
    "### We now have 1000 books with 50 reviews each, for a total of 50 000 rows"
   ]
  },
  {
   "cell_type": "markdown",
   "id": "051ecc53",
   "metadata": {},
   "source": [
    "Ensure the rating column contains numeric values"
   ]
  },
  {
   "cell_type": "code",
   "execution_count": 15,
   "id": "e31497aa",
   "metadata": {},
   "outputs": [],
   "source": [
    "sampled_reviews['rating'] = pd.to_numeric(sampled_reviews['rating'], errors='coerce')"
   ]
  },
  {
   "cell_type": "code",
   "execution_count": 121,
   "id": "8b766c4e",
   "metadata": {},
   "outputs": [
    {
     "data": {
      "text/plain": [
       "user_id                   object\n",
       "book_id                    int64\n",
       "review_id                 object\n",
       "rating                     int64\n",
       "review_text               object\n",
       "date_added                object\n",
       "date_updated              object\n",
       "read_at                   object\n",
       "started_at                object\n",
       "n_votes                    int64\n",
       "n_comments                 int64\n",
       "cleaned_text              object\n",
       "cleaned_text_str          object\n",
       "limited_text              object\n",
       "classification_result     object\n",
       "review_sentiment         float64\n",
       "dtype: object"
      ]
     },
     "execution_count": 121,
     "metadata": {},
     "output_type": "execute_result"
    }
   ],
   "source": [
    "sampled_reviews.dtypes"
   ]
  },
  {
   "cell_type": "markdown",
   "id": "971d2a99",
   "metadata": {},
   "source": [
    "### Top 10 Best books by average ratings amongst the top 1000 top books"
   ]
  },
  {
   "cell_type": "code",
   "execution_count": 16,
   "id": "0641351a",
   "metadata": {},
   "outputs": [
    {
     "name": "stdout",
     "output_type": "stream",
     "text": [
      "Top 10 Best Books by Average Rating:\n",
      "                                  Book Name  Average Rating\n",
      "0  Harry Potter and the Prisoner of Azkaban            4.66\n",
      "1                         Words of Radiance            4.64\n",
      "2      Harry Potter and the Deathly Hallows            4.62\n",
      "3                             Magic Strikes            4.62\n",
      "4                           The Nightingale            4.62\n",
      "5                          The Final Empire            4.62\n",
      "6                           Title not found            4.60\n",
      "7                                     Night            4.60\n",
      "8    Harry Potter and the Half-Blood Prince            4.58\n",
      "9                           A Monster Calls            4.58\n"
     ]
    }
   ],
   "source": [
    "# Group by book_id, calculate the average rating, and sort the results\n",
    "top_books = sampled_reviews.groupby('book_id')['rating'].mean().sort_values(ascending=False).head(10)\n",
    "\n",
    "# Fetch book names for the top 10 books\n",
    "top_books_names = top_books.index.map(get_book_name)\n",
    "\n",
    "# Create a DataFrame to display book names and their average ratings\n",
    "top_books_df = pd.DataFrame({\n",
    "    'Book Name': top_books_names,\n",
    "    'Average Rating': top_books.values\n",
    "})\n",
    "\n",
    "print(\"Top 10 Best Books by Average Rating:\")\n",
    "print(top_books_df)"
   ]
  },
  {
   "cell_type": "markdown",
   "id": "503dd06c",
   "metadata": {},
   "source": [
    "### Top 10 worse books"
   ]
  },
  {
   "cell_type": "code",
   "execution_count": 120,
   "id": "c230c601",
   "metadata": {},
   "outputs": [
    {
     "name": "stdout",
     "output_type": "stream",
     "text": [
      "Top 10 Worse Books by Average Rating:\n",
      "                         Book Name  Average Rating\n",
      "0        Twilight / Life and Death            1.76\n",
      "1  Pride and Prejudice and Zombies            2.32\n",
      "2             Fifty Shades of Grey            2.32\n",
      "3             The Glittering Court            2.44\n",
      "4                          Crossed            2.46\n",
      "5                          Passion            2.54\n",
      "6                A Thousand Nights            2.56\n",
      "7                  Dead Ever After            2.58\n",
      "8                           Fallen            2.60\n",
      "9                Go Set a Watchman            2.62\n"
     ]
    }
   ],
   "source": [
    "# Group by book_id, calculate the average rating, and sort the results\n",
    "worse_books = sampled_reviews.groupby('book_id')['rating'].mean().sort_values(ascending=True).head(10)\n",
    "\n",
    "# Fetch book names for the top 10 books\n",
    "worse_books_names = worse_books.index.map(get_book_name)\n",
    "\n",
    "# Create a DataFrame to display book names and their average ratings\n",
    "worse_books_df = pd.DataFrame({\n",
    "    'Book Name': worse_books_names,\n",
    "    'Average Rating': worse_books.values\n",
    "})\n",
    "\n",
    "print(\"Top 10 Worse Books by Average Rating:\")\n",
    "print(worse_books_df)"
   ]
  },
  {
   "cell_type": "markdown",
   "id": "f158f867",
   "metadata": {},
   "source": [
    "### Rating distribution"
   ]
  },
  {
   "cell_type": "code",
   "execution_count": 17,
   "id": "8789e404",
   "metadata": {
    "scrolled": false
   },
   "outputs": [
    {
     "data": {
      "image/png": "[encoded data removed]",
      "text/plain": [
       "<Figure size 720x432 with 1 Axes>"
      ]
     },
     "metadata": {
      "needs_background": "light"
     },
     "output_type": "display_data"
    }
   ],
   "source": [
    "# Distribution of Ratings\n",
    "plt.figure(figsize=(10, 6))\n",
    "histplot = sns.histplot(sampled_reviews['rating'].dropna(), kde=True, color='blue', bins=30)\n",
    "plt.title('Distribution of Ratings')\n",
    "plt.xlabel('Rating')\n",
    "plt.ylabel('Frequency')\n",
    "\n",
    "# Annotate bins with integer height\n",
    "for p in histplot.patches:\n",
    "    height = p.get_height()\n",
    "    if height.is_integer() and height != 0:  # Check if height is an integer and not zero\n",
    "        plt.text(p.get_x() + p.get_width() / 2,  # x-coordinate for text\n",
    "                 height + 3,  # y-coordinate for text\n",
    "                 f'{int(height)}',  # text\n",
    "                 ha='center')\n",
    "\n",
    "plt.show()"
   ]
  },
  {
   "cell_type": "markdown",
   "id": "3461dc3a",
   "metadata": {},
   "source": [
    "### Top 10 Users by votes received (review approvals)"
   ]
  },
  {
   "cell_type": "markdown",
   "id": "eb88cb61",
   "metadata": {},
   "source": [
    "(For Privacy and data protection we are enable to display the exact names so we leave the ids)"
   ]
  },
  {
   "cell_type": "code",
   "execution_count": 18,
   "id": "148bc48c",
   "metadata": {},
   "outputs": [
    {
     "data": {
      "image/png": "[encoded data removed]",
      "text/plain": [
       "<Figure size 864x432 with 1 Axes>"
      ]
     },
     "metadata": {
      "needs_background": "light"
     },
     "output_type": "display_data"
    }
   ],
   "source": [
    "top_voted_reviews = sampled_reviews.groupby('user_id')['n_votes'].sum().sort_values(ascending=False).head(10)\n",
    "plt.figure(figsize=(12, 6))\n",
    "barplot = sns.barplot(x=top_voted_reviews.values, y=top_voted_reviews.index, palette='mako')\n",
    "plt.title('Top 10 Users by Total Votes Received')\n",
    "plt.xlabel('Total Votes Received')\n",
    "plt.ylabel('User ID')\n",
    "\n",
    "# Annotate each bar with the value\n",
    "for p in barplot.patches:\n",
    "    width = p.get_width()\n",
    "    plt.text(width + 5,  # x-coordinate for text\n",
    "             p.get_y() + p.get_height() / 2,  # y-coordinate for text\n",
    "             f'{int(width)}',  # text\n",
    "             va='center')\n",
    "\n",
    "plt.show()"
   ]
  },
  {
   "cell_type": "code",
   "execution_count": 19,
   "id": "75ac3365",
   "metadata": {},
   "outputs": [
    {
     "name": "stdout",
     "output_type": "stream",
     "text": [
      "Total Average Rating across all books: 3.7659\n"
     ]
    }
   ],
   "source": [
    "# Calculate the total average rating across all books\n",
    "total_average_rating = sampled_reviews['rating'].mean()\n",
    "\n",
    "print(f\"Total Average Rating across all books: {total_average_rating}\")"
   ]
  },
  {
   "cell_type": "markdown",
   "id": "8aed3e09",
   "metadata": {},
   "source": [
    "### Most and least generous reviewers"
   ]
  },
  {
   "cell_type": "code",
   "execution_count": 122,
   "id": "d40eb34f",
   "metadata": {
    "scrolled": true
   },
   "outputs": [
    {
     "name": "stdout",
     "output_type": "stream",
     "text": [
      "Amongst the 300 users that have written more than 20 reviews, \n",
      "\n",
      "Top 5 most generous : \n",
      "\n",
      "                           Reviewer  Average Rating\n",
      "0  e6c197152bdda3a6f0bb1ead74d8d6c8        5.000000\n",
      "1  3d3c274dfe57506ea763d57438663887        4.818182\n",
      "2  3693bb4f1062b659a354848cf11ca313        4.730769\n",
      "3  22e6aa6cb4425438f32a49c7cbcb070a        4.695652\n",
      "4  a3e696e6ced8daae338eccf12ac58053        4.645161\n",
      "\n",
      "Top 5 least generous : \n",
      "\n",
      "                           Reviewer  Average Rating\n",
      "0  89792c2c139b39347004d2d8480046f6        0.161290\n",
      "1  5f4bce05d28ee52cbfefa470cb8fef29        2.095238\n",
      "2  dd279322f9c25c93351c3ae6a99cccac        2.181818\n",
      "3  9c832443e883b0fbf613883fd744c6ad        2.360000\n",
      "4  443bb7f2f5db781e438deb1f680e7996        2.470588\n"
     ]
    }
   ],
   "source": [
    "# Count the number of comments made by each reviewer\n",
    "reviewer_comment_count = sampled_reviews['user_id'].value_counts()\n",
    "\n",
    "# Filter out reviewers with 20 or fewer comments\n",
    "active_reviewers = reviewer_comment_count[reviewer_comment_count > 20].index\n",
    "\n",
    "# Filter the original DataFrame to keep only active reviewers\n",
    "active_reviews = sampled_reviews[sampled_reviews['user_id'].isin(active_reviewers)]\n",
    "\n",
    "# Calculate the average rating for each active reviewer\n",
    "reviewer_avg_rating = active_reviews.groupby('user_id')['rating'].mean()\n",
    "\n",
    "# Sort reviewers by Average Rating and select the top 5\n",
    "top_reviewers = reviewer_avg_rating.sort_values(ascending=False).head(5)\n",
    "\n",
    "# Sort reviewers by Average Rating and select the bottom 5\n",
    "bottom_reviewers = reviewer_avg_rating.sort_values(ascending=True).head(5)\n",
    "\n",
    "# Create a DataFrame for the top reviewers\n",
    "top_reviewers_df = pd.DataFrame({\n",
    "    'Reviewer': top_reviewers.index,\n",
    "    'Average Rating': top_reviewers.values\n",
    "})\n",
    "\n",
    "# Create a DataFrame for the worse reviewers\n",
    "bottom_reviewers_df = pd.DataFrame({\n",
    "    'Reviewer': bottom_reviewers.index,\n",
    "    'Average Rating': bottom_reviewers.values\n",
    "})\n",
    "\n",
    "print(f'Amongst the 300 users that have written more than 20 reviews, \\n\\nTop 5 most generous : \\n\\n{top_reviewers_df}')\n",
    "print(f'\\nTop 5 least generous : \\n\\n{bottom_reviewers_df}')"
   ]
  },
  {
   "cell_type": "markdown",
   "id": "b8cda212",
   "metadata": {},
   "source": [
    "## Data cleaning"
   ]
  },
  {
   "cell_type": "markdown",
   "id": "87d19ce0",
   "metadata": {},
   "source": [
    "### Removing stopwords, ponctuation and numbers"
   ]
  },
  {
   "cell_type": "code",
   "execution_count": 410,
   "id": "04262c89",
   "metadata": {},
   "outputs": [],
   "source": [
    "english_stopwords = set(stopwords.words('english'))\n",
    "\n",
    "def clean_text(text):\n",
    "    # Convert text to lowercase\n",
    "    text = text.lower()\n",
    "    # Remove punctuation\n",
    "    tokenizer = RegexpTokenizer(r'[a-zA-Z]+')\n",
    "    words = tokenizer.tokenize(text)\n",
    "    # Remove stopwords\n",
    "    filtered_words = [word for word in words if word not in english_stopwords]\n",
    "    return \" \".join(filtered_words)\n",
    "\n",
    "#tqdm.pandas(desc=\"Cleaning and Correcting Text\")\n",
    "#sampled_reviews['cleaned_text'] = sampled_reviews['review_text'].progress_apply(clean_text)"
   ]
  },
  {
   "cell_type": "markdown",
   "id": "207695e9",
   "metadata": {},
   "source": [
    "### Spelling correction"
   ]
  },
  {
   "cell_type": "code",
   "execution_count": 35,
   "id": "fad43ad4",
   "metadata": {},
   "outputs": [],
   "source": [
    "def correct_spelling(text):\n",
    "    blob = TextBlob(text)\n",
    "    corrected_text = blob.correct()\n",
    "    return str(corrected_text)"
   ]
  },
  {
   "cell_type": "code",
   "execution_count": 36,
   "id": "9046ee46",
   "metadata": {},
   "outputs": [
    {
     "name": "stderr",
     "output_type": "stream",
     "text": [
      "Correcting spelling: 100%|████████████████████████████████████████████████████| 50000/50000 [13:01:27<00:00,  1.07it/s]\n"
     ]
    }
   ],
   "source": [
    "tqdm.pandas(desc=\"Correcting spelling\")\n",
    "sampled_reviews['cleaned_text'] = sampled_reviews['cleaned_text'].progress_apply(correct_spelling)"
   ]
  },
  {
   "cell_type": "markdown",
   "id": "8351c62b",
   "metadata": {},
   "source": [
    "Removing the bi grams hide spoiler and show spoiler from the cleaned text becauyse they are useless"
   ]
  },
  {
   "cell_type": "code",
   "execution_count": 25,
   "id": "0aedcd57",
   "metadata": {},
   "outputs": [],
   "source": [
    "sampled_reviews['cleaned_text'] = sampled_reviews['cleaned_text'].str.replace('hide spoiler', '')\n",
    "sampled_reviews['cleaned_text'] = sampled_reviews['cleaned_text'].str.replace('view spoiler', '')"
   ]
  },
  {
   "cell_type": "markdown",
   "id": "2064f6b7",
   "metadata": {},
   "source": [
    "### Saving the new file with 50 000 rows and cleaned review text"
   ]
  },
  {
   "cell_type": "code",
   "execution_count": 37,
   "id": "9a34ceb2",
   "metadata": {},
   "outputs": [],
   "source": [
    "file_path = 'D:/s9/NLP/projet3/goodreads_reviews/sampled_reviews.csv'\n",
    "\n",
    "# Save the DataFrame to a CSV file\n",
    "sampled_reviews.to_csv(file_path, index=False)"
   ]
  },
  {
   "cell_type": "markdown",
   "id": "3de3ac46",
   "metadata": {},
   "source": [
    "### Most frequent words and n-grams in raw data"
   ]
  },
  {
   "cell_type": "code",
   "execution_count": 50,
   "id": "ff24d2d4",
   "metadata": {},
   "outputs": [],
   "source": [
    "# Function to get top N frequent words with tqdm\n",
    "def get_top_n_words(corpus, n=None):\n",
    "    vec = CountVectorizer().fit(corpus)\n",
    "    bag_of_words = vec.transform(corpus)\n",
    "    sum_words = bag_of_words.sum(axis=0)\n",
    "\n",
    "    words_freq = [(word, sum_words[0, idx]) for word, idx in tqdm(vec.vocabulary_.items(), desc=\"Processing Words\")]\n",
    "    words_freq = sorted(words_freq, key=lambda x: x[1], reverse=True)\n",
    "\n",
    "    return words_freq[:n]\n",
    "\n",
    "# Function to get top N frequent n-grams with tqdm\n",
    "def get_top_n_grams(corpus, n=None, ngram=2):\n",
    "    vec = CountVectorizer(ngram_range=(ngram, ngram)).fit(corpus)\n",
    "    bag_of_words = vec.transform(corpus)\n",
    "    sum_words = bag_of_words.sum(axis=0)\n",
    "\n",
    "    words_freq = [(word, sum_words[0, idx]) for word, idx in tqdm(vec.vocabulary_.items(), desc=\"Processing N-grams\")]\n",
    "    words_freq = sorted(words_freq, key=lambda x: x[1], reverse=True)\n",
    "\n",
    "    return words_freq[:n]"
   ]
  },
  {
   "cell_type": "markdown",
   "id": "ef12f747",
   "metadata": {},
   "source": [
    "### Compare cleaned_text top words and bi grams to uncleaned reviews"
   ]
  },
  {
   "cell_type": "markdown",
   "id": "cf361997",
   "metadata": {},
   "source": [
    "#### With raw (uncleaned) reviews : "
   ]
  },
  {
   "cell_type": "code",
   "execution_count": 45,
   "id": "ce829993",
   "metadata": {
    "scrolled": true
   },
   "outputs": [
    {
     "name": "stderr",
     "output_type": "stream",
     "text": [
      "Processing Words: 100%|██████████████████████████████████████████████████████| 65894/65894 [00:00<00:00, 872985.86it/s]\n",
      "Processing N-grams: 100%|████████████████████████████████████████████████| 1475738/1475738 [00:01<00:00, 889256.10it/s]\n"
     ]
    }
   ],
   "source": [
    "top_words_uncleaned = get_top_n_words(sampled_reviews['review_text'], n=10)\n",
    "top_bigrams_uncleaned = get_top_n_grams(sampled_reviews['review_text'], n=10, ngram=2)"
   ]
  },
  {
   "cell_type": "code",
   "execution_count": 47,
   "id": "6f74532b",
   "metadata": {
    "scrolled": false
   },
   "outputs": [
    {
     "data": {
      "image/png": "[encoded data removed]",
      "text/plain": [
       "<Figure size 864x432 with 1 Axes>"
      ]
     },
     "metadata": {
      "needs_background": "light"
     },
     "output_type": "display_data"
    },
    {
     "data": {
      "image/png": "[encoded data removed]",
      "text/plain": [
       "<Figure size 864x432 with 1 Axes>"
      ]
     },
     "metadata": {
      "needs_background": "light"
     },
     "output_type": "display_data"
    }
   ],
   "source": [
    "top_words_dict_uncleaned = dict(top_words_uncleaned)\n",
    "top_bigrams_dict_uncleaned = dict(top_bigrams_uncleaned)\n",
    "\n",
    "# Convert to DataFrame for easier plotting\n",
    "top_words_df_uncleaned = pd.DataFrame(list(top_words_dict_uncleaned.items()), columns=['Word', 'Frequency'])\n",
    "top_bigrams_df_uncleaned = pd.DataFrame(list(top_bigrams_dict_uncleaned.items()), columns=['Bigram', 'Frequency'])\n",
    "\n",
    "# Sort the DataFrames by frequency in descending order\n",
    "top_words_df_uncleaned = top_words_df_uncleaned.sort_values(by='Frequency', ascending=False)\n",
    "top_bigrams_df_uncleaned = top_bigrams_df_uncleaned.sort_values(by='Frequency', ascending=False)\n",
    "\n",
    "# Plot the top words\n",
    "plt.figure(figsize=(12, 6))\n",
    "sns.barplot(x='Frequency', y='Word', data=top_words_df_uncleaned, palette='viridis')\n",
    "plt.title('Top 10 Words in raw reviews by Frequency')\n",
    "plt.xlabel('Frequency')\n",
    "plt.ylabel('Word')\n",
    "plt.show()\n",
    "\n",
    "# Plot the top bigrams\n",
    "plt.figure(figsize=(12, 6))\n",
    "sns.barplot(x='Frequency', y='Bigram', data=top_bigrams_df_uncleaned, palette='viridis')\n",
    "plt.title('Top 10 Bigrams in raw reviews by Frequency')\n",
    "plt.xlabel('Frequency')\n",
    "plt.ylabel('Bigram')\n",
    "plt.show()"
   ]
  },
  {
   "cell_type": "markdown",
   "id": "83e4c000",
   "metadata": {},
   "source": [
    "#### We can see the words are not relevant, they are 'stop' words, after cleaning let's see what the results are"
   ]
  },
  {
   "cell_type": "code",
   "execution_count": 48,
   "id": "f182786d",
   "metadata": {},
   "outputs": [
    {
     "name": "stderr",
     "output_type": "stream",
     "text": [
      "Processing Words: 100%|█████████████████████████████████████████████████████| 37070/37070 [00:00<00:00, 1143071.34it/s]\n",
      "Processing N-grams: 100%|████████████████████████████████████████████████| 1841095/1841095 [00:02<00:00, 897196.94it/s]\n"
     ]
    }
   ],
   "source": [
    "top_words = get_top_n_words(sampled_reviews['cleaned_text'], n=10)\n",
    "top_bigrams = get_top_n_grams(sampled_reviews['cleaned_text'], n=10, ngram=2)"
   ]
  },
  {
   "cell_type": "code",
   "execution_count": 42,
   "id": "37aaf1b2",
   "metadata": {
    "scrolled": false
   },
   "outputs": [
    {
     "data": {
      "image/png": "[encoded data removed]",
      "text/plain": [
       "<Figure size 864x432 with 1 Axes>"
      ]
     },
     "metadata": {
      "needs_background": "light"
     },
     "output_type": "display_data"
    },
    {
     "data": {
      "image/png": "[encoded data removed]",
      "text/plain": [
       "<Figure size 864x432 with 1 Axes>"
      ]
     },
     "metadata": {
      "needs_background": "light"
     },
     "output_type": "display_data"
    }
   ],
   "source": [
    "top_words_dict = dict(top_words)\n",
    "top_bigrams_dict = dict(top_bigrams)\n",
    "\n",
    "# Convert to DataFrame for easier plotting\n",
    "top_words_df = pd.DataFrame(list(top_words_dict.items()), columns=['Word', 'Frequency'])\n",
    "top_bigrams_df = pd.DataFrame(list(top_bigrams_dict.items()), columns=['Bigram', 'Frequency'])\n",
    "\n",
    "# Sort the DataFrames by frequency in descending order\n",
    "top_words_df = top_words_df.sort_values(by='Frequency', ascending=False)\n",
    "top_bigrams_df = top_bigrams_df.sort_values(by='Frequency', ascending=False)\n",
    "\n",
    "# Plot the top words\n",
    "plt.figure(figsize=(12, 6))\n",
    "sns.barplot(x='Frequency', y='Word', data=top_words_df, palette='viridis')\n",
    "plt.title('Top 10 Words by Frequency')\n",
    "plt.xlabel('Frequency')\n",
    "plt.ylabel('Word')\n",
    "plt.show()\n",
    "\n",
    "# Plot the top bigrams\n",
    "plt.figure(figsize=(12, 6))\n",
    "sns.barplot(x='Frequency', y='Bigram', data=top_bigrams_df, palette='viridis')\n",
    "plt.title('Top 10 Bigrams by Frequency')\n",
    "plt.xlabel('Frequency')\n",
    "plt.ylabel('Bigram')\n",
    "plt.show()"
   ]
  },
  {
   "cell_type": "markdown",
   "id": "53dff3ff",
   "metadata": {},
   "source": [
    "#### We can see the words are much better, the cleaning was effective"
   ]
  },
  {
   "cell_type": "code",
   "execution_count": 51,
   "id": "106d816f",
   "metadata": {
    "scrolled": false
   },
   "outputs": [
    {
     "name": "stderr",
     "output_type": "stream",
     "text": [
      "Processing Words: 100%|██████████████████████████████████████████████████████| 37070/37070 [00:00<00:00, 635994.51it/s]\n",
      "Processing N-grams: 100%|████████████████████████████████████████████████| 1841095/1841095 [00:02<00:00, 917552.76it/s]\n"
     ]
    },
    {
     "data": {
      "image/png": "[encoded data removed]",
      "text/plain": [
       "<Figure size 360x360 with 1 Axes>"
      ]
     },
     "metadata": {
      "needs_background": "light"
     },
     "output_type": "display_data"
    }
   ],
   "source": [
    "# Word cloud\n",
    "top_words = get_top_n_words(sampled_reviews['cleaned_text'], n=30)\n",
    "top_bigrams = get_top_n_grams(sampled_reviews['cleaned_text'], n=30, ngram=2)\n",
    "top_words_dict = dict(top_words)\n",
    "wordcloud = WordCloud(width=800, height=400, background_color ='white').generate_from_frequencies(top_words_dict)\n",
    "\n",
    "plt.figure(figsize=(5, 5))\n",
    "plt.imshow(wordcloud, interpolation='bilinear')\n",
    "plt.axis('off')\n",
    "plt.title('Word Cloud for Top 30 Words')\n",
    "plt.show()"
   ]
  },
  {
   "cell_type": "markdown",
   "id": "47533b10",
   "metadata": {},
   "source": [
    "## Sentiment analysis"
   ]
  },
  {
   "cell_type": "markdown",
   "id": "176da01c",
   "metadata": {},
   "source": [
    "### Loading distilBert"
   ]
  },
  {
   "cell_type": "code",
   "execution_count": 68,
   "id": "6739eb28",
   "metadata": {
    "collapsed": true
   },
   "outputs": [
    {
     "name": "stdout",
     "output_type": "stream",
     "text": [
      "WARNING:tensorflow:From C:\\Users\\timot\\anaconda3\\lib\\site-packages\\keras\\src\\losses.py:2976: The name tf.losses.sparse_softmax_cross_entropy is deprecated. Please use tf.compat.v1.losses.sparse_softmax_cross_entropy instead.\n",
      "\n"
     ]
    },
    {
     "data": {
      "application/vnd.jupyter.widget-view+json": {
       "model_id": "64e75edb3db34d34b5355025d43fa937",
       "version_major": 2,
       "version_minor": 0
      },
      "text/plain": [
       "config.json:   0%|          | 0.00/483 [00:00<?, ?B/s]"
      ]
     },
     "metadata": {},
     "output_type": "display_data"
    },
    {
     "name": "stderr",
     "output_type": "stream",
     "text": [
      "C:\\Users\\timot\\anaconda3\\lib\\site-packages\\huggingface_hub\\file_download.py:149: UserWarning: `huggingface_hub` cache-system uses symlinks by default to efficiently store duplicated files but your machine does not support them in C:\\Users\\timot\\.cache\\huggingface\\hub\\models--distilbert-base-uncased. Caching files will still work but in a degraded version that might require more space on your disk. This warning can be disabled by setting the `HF_HUB_DISABLE_SYMLINKS_WARNING` environment variable. For more details, see https://huggingface.co/docs/huggingface_hub/how-to-cache#limitations.\n",
      "To support symlinks on Windows, you either need to activate Developer Mode or to run Python as an administrator. In order to see activate developer mode, see this article: https://docs.microsoft.com/en-us/windows/apps/get-started/enable-your-device-for-development\n",
      "  warnings.warn(message)\n"
     ]
    },
    {
     "data": {
      "application/vnd.jupyter.widget-view+json": {
       "model_id": "b30afd463fcc44c89e6927c4d4bd4488",
       "version_major": 2,
       "version_minor": 0
      },
      "text/plain": [
       "model.safetensors:   0%|          | 0.00/268M [00:00<?, ?B/s]"
      ]
     },
     "metadata": {},
     "output_type": "display_data"
    },
    {
     "name": "stdout",
     "output_type": "stream",
     "text": [
      "WARNING:tensorflow:From C:\\Users\\timot\\anaconda3\\lib\\site-packages\\keras\\src\\backend.py:873: The name tf.get_default_graph is deprecated. Please use tf.compat.v1.get_default_graph instead.\n",
      "\n"
     ]
    },
    {
     "name": "stderr",
     "output_type": "stream",
     "text": [
      "Some weights of the PyTorch model were not used when initializing the TF 2.0 model TFDistilBertForSequenceClassification: ['vocab_layer_norm.bias', 'vocab_transform.weight', 'vocab_layer_norm.weight', 'vocab_projector.bias', 'vocab_transform.bias']\n",
      "- This IS expected if you are initializing TFDistilBertForSequenceClassification from a PyTorch model trained on another task or with another architecture (e.g. initializing a TFBertForSequenceClassification model from a BertForPreTraining model).\n",
      "- This IS NOT expected if you are initializing TFDistilBertForSequenceClassification from a PyTorch model that you expect to be exactly identical (e.g. initializing a TFBertForSequenceClassification model from a BertForSequenceClassification model).\n",
      "Some weights or buffers of the TF 2.0 model TFDistilBertForSequenceClassification were not initialized from the PyTorch model and are newly initialized: ['pre_classifier.weight', 'pre_classifier.bias', 'classifier.weight', 'classifier.bias']\n",
      "You should probably TRAIN this model on a down-stream task to be able to use it for predictions and inference.\n"
     ]
    },
    {
     "data": {
      "application/vnd.jupyter.widget-view+json": {
       "model_id": "e2c31805c2ad4479a59c15d8c60b0f2d",
       "version_major": 2,
       "version_minor": 0
      },
      "text/plain": [
       "tokenizer_config.json:   0%|          | 0.00/28.0 [00:00<?, ?B/s]"
      ]
     },
     "metadata": {},
     "output_type": "display_data"
    },
    {
     "data": {
      "application/vnd.jupyter.widget-view+json": {
       "model_id": "7cebd475b6ca40848b3355a0cedeb80c",
       "version_major": 2,
       "version_minor": 0
      },
      "text/plain": [
       "vocab.txt:   0%|          | 0.00/232k [00:00<?, ?B/s]"
      ]
     },
     "metadata": {},
     "output_type": "display_data"
    },
    {
     "data": {
      "application/vnd.jupyter.widget-view+json": {
       "model_id": "78fce078fc1c44a19e392a329cb16a7f",
       "version_major": 2,
       "version_minor": 0
      },
      "text/plain": [
       "tokenizer.json:   0%|          | 0.00/466k [00:00<?, ?B/s]"
      ]
     },
     "metadata": {},
     "output_type": "display_data"
    }
   ],
   "source": [
    "classifier = pipeline('sentiment-analysis', model='distilbert-base-uncased')"
   ]
  },
  {
   "cell_type": "markdown",
   "id": "2d91d6e6",
   "metadata": {},
   "source": [
    "#### Concatenating the review words to 512 characters"
   ]
  },
  {
   "cell_type": "code",
   "execution_count": 73,
   "id": "ed3ef37b",
   "metadata": {},
   "outputs": [],
   "source": [
    "def concatenate_and_limit(text_list):\n",
    "    text = ' '.join(text_list)\n",
    "    return text[:512]\n",
    "\n",
    "# Apply the function to the 'cleaned_text' column to create a new column\n",
    "sampled_reviews['limited_text'] = sampled_reviews['cleaned_text'].apply(concatenate_and_limit)"
   ]
  },
  {
   "cell_type": "code",
   "execution_count": 247,
   "id": "df18bf40",
   "metadata": {},
   "outputs": [
    {
     "data": {
      "text/html": [
       "<div>\n",
       "<style scoped>\n",
       "    .dataframe tbody tr th:only-of-type {\n",
       "        vertical-align: middle;\n",
       "    }\n",
       "\n",
       "    .dataframe tbody tr th {\n",
       "        vertical-align: top;\n",
       "    }\n",
       "\n",
       "    .dataframe thead th {\n",
       "        text-align: right;\n",
       "    }\n",
       "</style>\n",
       "<table border=\"1\" class=\"dataframe\">\n",
       "  <thead>\n",
       "    <tr style=\"text-align: right;\">\n",
       "      <th></th>\n",
       "      <th>user_id</th>\n",
       "      <th>book_id</th>\n",
       "      <th>review_id</th>\n",
       "      <th>rating</th>\n",
       "      <th>review_text</th>\n",
       "      <th>date_added</th>\n",
       "      <th>date_updated</th>\n",
       "      <th>read_at</th>\n",
       "      <th>started_at</th>\n",
       "      <th>n_votes</th>\n",
       "      <th>...</th>\n",
       "      <th>cleaned_text</th>\n",
       "      <th>cleaned_text_str</th>\n",
       "      <th>limited_text</th>\n",
       "      <th>classification_result</th>\n",
       "      <th>review_sentiment</th>\n",
       "      <th>contains_label_1</th>\n",
       "      <th>sentiment_category</th>\n",
       "      <th>test_sentiment</th>\n",
       "      <th>sentiment_category_2</th>\n",
       "      <th>ground_truth</th>\n",
       "    </tr>\n",
       "  </thead>\n",
       "  <tbody>\n",
       "    <tr>\n",
       "      <th>0</th>\n",
       "      <td>4a2be6395f9a7826b132065a47ca019e</td>\n",
       "      <td>5</td>\n",
       "      <td>ca23d9615ed0865e8e7ba98b311fc42c</td>\n",
       "      <td>3</td>\n",
       "      <td>I believe this is the book where Harry suddenl...</td>\n",
       "      <td>Fri Jan 09 10:28:42 -0800 2009</td>\n",
       "      <td>Fri Jan 09 10:30:07 -0800 2009</td>\n",
       "      <td>Wed Sep 15 00:00:00 -0700 1999</td>\n",
       "      <td>NaN</td>\n",
       "      <td>0</td>\n",
       "      <td>...</td>\n",
       "      <td>['believ', 'book', 'harri', 'suddenli', 'devel...</td>\n",
       "      <td>believ book harri suddenli develop temper thin...</td>\n",
       "      <td>believ book harri suddenli develop temper thin...</td>\n",
       "      <td>[{'label': 'LABEL_0', 'score': 0.5270383358001...</td>\n",
       "      <td>0.0</td>\n",
       "      <td>False</td>\n",
       "      <td>Neutral</td>\n",
       "      <td>0.0</td>\n",
       "      <td>Neutral</td>\n",
       "      <td>Negative</td>\n",
       "    </tr>\n",
       "  </tbody>\n",
       "</table>\n",
       "<p>1 rows × 21 columns</p>\n",
       "</div>"
      ],
      "text/plain": [
       "                            user_id  book_id  \\\n",
       "0  4a2be6395f9a7826b132065a47ca019e        5   \n",
       "\n",
       "                          review_id  rating  \\\n",
       "0  ca23d9615ed0865e8e7ba98b311fc42c       3   \n",
       "\n",
       "                                         review_text  \\\n",
       "0  I believe this is the book where Harry suddenl...   \n",
       "\n",
       "                       date_added                    date_updated  \\\n",
       "0  Fri Jan 09 10:28:42 -0800 2009  Fri Jan 09 10:30:07 -0800 2009   \n",
       "\n",
       "                          read_at started_at  n_votes  ...  \\\n",
       "0  Wed Sep 15 00:00:00 -0700 1999        NaN        0  ...   \n",
       "\n",
       "                                        cleaned_text  \\\n",
       "0  ['believ', 'book', 'harri', 'suddenli', 'devel...   \n",
       "\n",
       "                                    cleaned_text_str  \\\n",
       "0  believ book harri suddenli develop temper thin...   \n",
       "\n",
       "                                        limited_text  \\\n",
       "0  believ book harri suddenli develop temper thin...   \n",
       "\n",
       "                               classification_result review_sentiment  \\\n",
       "0  [{'label': 'LABEL_0', 'score': 0.5270383358001...              0.0   \n",
       "\n",
       "   contains_label_1  sentiment_category test_sentiment  sentiment_category_2  \\\n",
       "0             False             Neutral            0.0               Neutral   \n",
       "\n",
       "  ground_truth  \n",
       "0     Negative  \n",
       "\n",
       "[1 rows x 21 columns]"
      ]
     },
     "execution_count": 247,
     "metadata": {},
     "output_type": "execute_result"
    }
   ],
   "source": [
    "sampled_reviews.head(1)"
   ]
  },
  {
   "cell_type": "markdown",
   "id": "771cf196",
   "metadata": {},
   "source": [
    "#### Applying BERT classifier on the reviews to get sentiment analysis on the reviews"
   ]
  },
  {
   "cell_type": "code",
   "execution_count": 74,
   "id": "cba93cff",
   "metadata": {
    "scrolled": false
   },
   "outputs": [
    {
     "name": "stderr",
     "output_type": "stream",
     "text": [
      "100%|██████████████████████████████████████████████████████████████████████████| 50000/50000 [2:10:16<00:00,  6.40it/s]\n"
     ]
    }
   ],
   "source": [
    "# Initialize tqdm for progress tracking\n",
    "tqdm.pandas()\n",
    "\n",
    "# Classify the text in the limited_text column\n",
    "sampled_reviews['classification_result'] = sampled_reviews['limited_text'].progress_apply(classifier)"
   ]
  },
  {
   "cell_type": "code",
   "execution_count": 94,
   "id": "b7955f96",
   "metadata": {
    "scrolled": true
   },
   "outputs": [
    {
     "name": "stdout",
     "output_type": "stream",
     "text": [
      "3 [{'label': 'LABEL_0', 'score': 0.5270383358001709}]\n"
     ]
    }
   ],
   "source": [
    "for i in range(10):\n",
    "    print(sampled_reviews['classification_result'].iloc[i])"
   ]
  },
  {
   "cell_type": "code",
   "execution_count": 128,
   "id": "3a8370c5",
   "metadata": {
    "scrolled": false
   },
   "outputs": [
    {
     "name": "stdout",
     "output_type": "stream",
     "text": [
      "Negative (LABEL_0): 49977\n",
      "Positive (LABEL_1): 23\n"
     ]
    }
   ],
   "source": [
    "# Function to check if 'LABEL_1' is in the classification_result\n",
    "def contains_label_1(result_list):\n",
    "    for result in result_list:\n",
    "        if result['label'] == 'LABEL_1':\n",
    "            return True\n",
    "    return False\n",
    "\n",
    "# Apply the function to each row to check if it contains 'LABEL_1'\n",
    "sampled_reviews['contains_label_1'] = sampled_reviews['classification_result'].apply(contains_label_1)\n",
    "\n",
    "# Count the occurrences of 'LABEL_0' (negative) and 'LABEL_1' (positive)\n",
    "count_label_0 = sampled_reviews['contains_label_1'].eq(False).sum()\n",
    "count_label_1 = sampled_reviews['contains_label_1'].sum()\n",
    "\n",
    "# Display the count next to the translated prediction\n",
    "print(f\"Negative (LABEL_0): {count_label_0}\")\n",
    "print(f\"Positive (LABEL_1): {count_label_1}\")"
   ]
  },
  {
   "cell_type": "markdown",
   "id": "c6ecaf43",
   "metadata": {},
   "source": [
    "It looks like distillbert struggled with sentiment analysis on the dataframe. Almost all predictions indicate negative reviews, which is strange, let's try another way."
   ]
  },
  {
   "cell_type": "markdown",
   "id": "991645af",
   "metadata": {},
   "source": [
    "### Sentiment Analysis using TextBlob"
   ]
  },
  {
   "cell_type": "markdown",
   "id": "596b6e42",
   "metadata": {},
   "source": [
    "Basic model, not trained on the specific data : "
   ]
  },
  {
   "cell_type": "code",
   "execution_count": 111,
   "id": "b9877360",
   "metadata": {
    "scrolled": true
   },
   "outputs": [
    {
     "name": "stderr",
     "output_type": "stream",
     "text": [
      "Cleaning and Correcting Text: 100%|████████████████████████████████████████████| 50000/50000 [00:17<00:00, 2867.74it/s]\n"
     ]
    }
   ],
   "source": [
    "def calculate_sentiment(text):\n",
    "    analysis = TextBlob(\" \".join(text))  # Join the words in the list into a single sentence\n",
    "    return analysis.sentiment.polarity\n",
    "\n",
    "# Calculate sentiment for each review and store in a new column\n",
    "sampled_reviews['review_sentiment'] = sampled_reviews['cleaned_text'].progress_apply(lambda x: calculate_sentiment(x))"
   ]
  },
  {
   "cell_type": "code",
   "execution_count": 138,
   "id": "72c2db6f",
   "metadata": {
    "scrolled": true
   },
   "outputs": [],
   "source": [
    "# We will consider that pure 0 is a neutral sentiment review, negative is negative and positive positive\n",
    "def categorize_sentiment(sentiment):\n",
    "    if sentiment < 0:\n",
    "        return 'Negative'\n",
    "    elif sentiment > 0:\n",
    "        return 'Positive'\n",
    "    else:\n",
    "        return 'Neutral'"
   ]
  },
  {
   "cell_type": "code",
   "execution_count": 137,
   "id": "9a968371",
   "metadata": {},
   "outputs": [
    {
     "name": "stdout",
     "output_type": "stream",
     "text": [
      "Negative (Sentiment): 7176\n",
      "Neutral (Sentiment): 5385\n",
      "Positive (Sentiment): 37439\n"
     ]
    }
   ],
   "source": [
    "# Apply the sentiment categorization function\n",
    "sampled_reviews['sentiment_category'] = sampled_reviews['review_sentiment'].apply(categorize_sentiment)\n",
    "\n",
    "# Count the occurrences of sentiment categories\n",
    "count_negative = (sampled_reviews['sentiment_category'] == 'Negative').sum()\n",
    "count_neutral = (sampled_reviews['sentiment_category'] == 'Neutral').sum()\n",
    "count_positive = (sampled_reviews['sentiment_category'] == 'Positive').sum()\n",
    "\n",
    "print(f\"Negative (Sentiment): {count_negative}\")\n",
    "print(f\"Neutral (Sentiment): {count_neutral}\")\n",
    "print(f\"Positive (Sentiment): {count_positive}\")"
   ]
  },
  {
   "cell_type": "markdown",
   "id": "c9185971",
   "metadata": {},
   "source": [
    "#### As we can see 75% of reviews are positive, 15% are negative and the remaining 10% are neutral"
   ]
  },
  {
   "cell_type": "markdown",
   "id": "8b6f0ea0",
   "metadata": {},
   "source": [
    "#### This output is quite logical it seems, since we selected the top 1000 best books with more than 50 reviews by average ratings"
   ]
  },
  {
   "cell_type": "markdown",
   "id": "6f472ef6",
   "metadata": {},
   "source": [
    "#### Evaluation of the model : "
   ]
  },
  {
   "cell_type": "markdown",
   "id": "6952503e",
   "metadata": {},
   "source": [
    "We will consider that : <br>\n",
    "0   <= AVERAGE RATING <= 3   :  NEGATIVE  <br> \n",
    "3   <  AVERAGE RATING < 4    :  NEUTRAL <br>\n",
    "4   <= AVERAGE RATING <= 5 :  POSITIVE <br>"
   ]
  },
  {
   "cell_type": "code",
   "execution_count": 142,
   "id": "b4acaed4",
   "metadata": {},
   "outputs": [
    {
     "name": "stderr",
     "output_type": "stream",
     "text": [
      "C:\\Users\\timot\\anaconda3\\lib\\site-packages\\sklearn\\metrics\\_classification.py:1248: UndefinedMetricWarning: Recall is ill-defined and being set to 0.0 due to no true samples. Use `zero_division` parameter to control this behavior.\n",
      "  _warn_prf(average, modifier, msg_start, len(result))\n"
     ]
    },
    {
     "name": "stdout",
     "output_type": "stream",
     "text": [
      "Accuracy: 0.59232\n",
      "Precision (Negative): 0.47408026755852845\n",
      "Precision (Neutral): 0.0\n",
      "Precision (Positive): 0.700178957771308\n",
      "Recall (Negative): 0.20507565254084031\n",
      "Recall (Neutral): 0.0\n",
      "Recall (Positive): 0.7845919008709706\n",
      "F1-score (Negative): 0.2863033873343152\n",
      "F1-score (Neutral): 0.0\n",
      "F1-score (Positive): 0.7399858856739591\n"
     ]
    }
   ],
   "source": [
    "from sklearn.metrics import accuracy_score, precision_score, recall_score, f1_score\n",
    "\n",
    "# Define the ground truth labels based on average rating\n",
    "sampled_reviews['ground_truth'] = sampled_reviews['rating'].apply(lambda x: 'Negative' if x <= 3 else ('Neutral' if x < 4 else 'Positive'))\n",
    "\n",
    "# Calculate accuracy\n",
    "accuracy = accuracy_score(sampled_reviews['ground_truth'], sampled_reviews['sentiment_category'])\n",
    "\n",
    "# Calculate precision, recall, and F1-score for each category\n",
    "precision_negative = precision_score(sampled_reviews['ground_truth'], sampled_reviews['sentiment_category'], average='weighted', labels=['Negative'])\n",
    "precision_neutral = precision_score(sampled_reviews['ground_truth'], sampled_reviews['sentiment_category'], average='weighted', labels=['Neutral'])\n",
    "precision_positive = precision_score(sampled_reviews['ground_truth'], sampled_reviews['sentiment_category'], average='weighted', labels=['Positive'])\n",
    "\n",
    "recall_negative = recall_score(sampled_reviews['ground_truth'], sampled_reviews['sentiment_category'], average='weighted', labels=['Negative'])\n",
    "recall_neutral = recall_score(sampled_reviews['ground_truth'], sampled_reviews['sentiment_category'], average='weighted', labels=['Neutral'])\n",
    "recall_positive = recall_score(sampled_reviews['ground_truth'], sampled_reviews['sentiment_category'], average='weighted', labels=['Positive'])\n",
    "\n",
    "f1_negative = f1_score(sampled_reviews['ground_truth'], sampled_reviews['sentiment_category'], average='weighted', labels=['Negative'])\n",
    "f1_neutral = f1_score(sampled_reviews['ground_truth'], sampled_reviews['sentiment_category'], average='weighted', labels=['Neutral'])\n",
    "f1_positive = f1_score(sampled_reviews['ground_truth'], sampled_reviews['sentiment_category'], average='weighted', labels=['Positive'])\n",
    "\n",
    "# Print the evaluation metrics\n",
    "print(f\"Accuracy: {accuracy}\")\n",
    "print(f\"Precision (Negative): {precision_negative}\")\n",
    "print(f\"Precision (Neutral): {precision_neutral}\")\n",
    "print(f\"Precision (Positive): {precision_positive}\")\n",
    "print(f\"Recall (Negative): {recall_negative}\")\n",
    "print(f\"Recall (Neutral): {recall_neutral}\")\n",
    "print(f\"Recall (Positive): {recall_positive}\")\n",
    "print(f\"F1-score (Negative): {f1_negative}\")\n",
    "print(f\"F1-score (Neutral): {f1_neutral}\")\n",
    "print(f\"F1-score (Positive): {f1_positive}\")"
   ]
  },
  {
   "cell_type": "markdown",
   "id": "c0a97f0b",
   "metadata": {},
   "source": [
    "### Let's face it, untrained model can't realluy predict the sentiment well. Let's try with a trained BERT : "
   ]
  },
  {
   "cell_type": "code",
   "execution_count": 150,
   "id": "a8d4b796",
   "metadata": {},
   "outputs": [],
   "source": [
    "file_path = 'D:/s9/NLP/projet3/goodreads_reviews/sampled_reviews.csv'\n",
    "\n",
    "# Save the DataFrame to a CSV file\n",
    "sampled_reviews.to_csv(file_path, index=False)"
   ]
  },
  {
   "cell_type": "code",
   "execution_count": 3,
   "id": "17035dd3",
   "metadata": {},
   "outputs": [],
   "source": [
    "sampled_reviews = pd.read_csv(\"D:/s9/NLP/projet3/goodreads_reviews/sampled_reviews.csv\")"
   ]
  },
  {
   "cell_type": "code",
   "execution_count": 7,
   "id": "12c9209e",
   "metadata": {},
   "outputs": [
    {
     "name": "stdout",
     "output_type": "stream",
     "text": [
      "WARNING:tensorflow:From C:\\Users\\timot\\anaconda3\\lib\\site-packages\\keras\\src\\losses.py:2976: The name tf.losses.sparse_softmax_cross_entropy is deprecated. Please use tf.compat.v1.losses.sparse_softmax_cross_entropy instead.\n",
      "\n"
     ]
    }
   ],
   "source": [
    "# For TensorFlow\n",
    "from tensorflow.summary import create_file_writer\n",
    "\n",
    "# For PyTorch\n",
    "from torch.utils.tensorboard import SummaryWriter"
   ]
  },
  {
   "cell_type": "markdown",
   "id": "17ad7fda",
   "metadata": {},
   "source": [
    "### We tried to implement a BERT pre-trained model fine tune it on our dataset (even following its progress on tensorboard), but it could never run, exceding the RAM of our computers and google collab's one"
   ]
  },
  {
   "cell_type": "code",
   "execution_count": null,
   "id": "cce6a7b6",
   "metadata": {},
   "outputs": [],
   "source": [
    "# from transformers import BertTokenizer, BertForSequenceClassification\n",
    "# import torch\n",
    "# from torch.utils.data import DataLoader, TensorDataset\n",
    "# from sklearn.model_selection import train_test_split\n",
    "# from sklearn.metrics import accuracy_score\n",
    "\n",
    "# # Split your data into train and validation sets\n",
    "# train_data, val_data = train_test_split(sampled_reviews, test_size=0.2, random_state=42)\n",
    "\n",
    "# # Initialize BERT tokenizer and model\n",
    "# tokenizer = BertTokenizer.from_pretrained(\"bert-base-uncased\")\n",
    "# model = BertForSequenceClassification.from_pretrained(\"bert-base-uncased\", num_labels=3)  # 3 labels for Negative, Neutral, Positive\n",
    "\n",
    "# # Tokenize and encode the text data\n",
    "# train_tokens = tokenizer(list(train_data['cleaned_text']), padding=True, truncation=True, return_tensors='pt')\n",
    "# val_tokens = tokenizer(list(val_data['cleaned_text']), padding=True, truncation=True, return_tensors='pt')\n",
    "\n",
    "# # Define a mapping for the labels\n",
    "# label_mapping = {'Negative': 0, 'Neutral': 1, 'Positive': 2}\n",
    "\n",
    "# # Function to convert labels to integers\n",
    "# def convert_labels_to_int(labels, mapping):\n",
    "#     return [mapping[label] for label in labels]\n",
    "\n",
    "# # Convert ground_truth labels in train and validation data\n",
    "# train_labels = convert_labels_to_int(train_data['ground_truth'], label_mapping)\n",
    "# val_labels = convert_labels_to_int(val_data['ground_truth'], label_mapping)\n",
    "\n",
    "# train_dataset = TensorDataset(train_tokens['input_ids'], train_tokens['attention_mask'], torch.tensor(train_labels))\n",
    "# val_dataset = TensorDataset(val_tokens['input_ids'], val_tokens['attention_mask'], torch.tensor(val_labels))\n",
    "\n",
    "# train_loader = DataLoader(train_dataset, batch_size=32, shuffle=True)\n",
    "# val_loader = DataLoader(val_dataset, batch_size=32)\n",
    "\n",
    "# # Define optimizer and loss function\n",
    "# optimizer = torch.optim.AdamW(model.parameters(), lr=1e-5)\n",
    "# criterion = torch.nn.CrossEntropyLoss()\n",
    "\n",
    "# # Training loop\n",
    "# epochs = 10\n",
    "# model.train()\n",
    "# for epoch in range(epochs):\n",
    "#     train_loss = 0\n",
    "#     correct = 0\n",
    "#     total = 0\n",
    "#     train_loader_tqdm = tqdm(train_loader, desc=f'Epoch {epoch + 1}', leave=False)\n",
    "\n",
    "#     for batch in train_loader_tqdm:\n",
    "#         inputs, masks, labels = batch\n",
    "#         optimizer.zero_grad()\n",
    "#         outputs = model(inputs, attention_mask=masks, labels=labels)\n",
    "#         loss = outputs.loss\n",
    "#         train_loss += loss.item()\n",
    "#         loss.backward()\n",
    "#         optimizer.step()\n",
    "\n",
    "#         # Calculate accuracy\n",
    "#         _, predicted = torch.max(outputs.logits, 1)\n",
    "#         total += labels.size(0)\n",
    "#         correct += (predicted == labels).sum().item()\n",
    "\n",
    "#         # Update tqdm progress bar with loss\n",
    "#         train_loader_tqdm.set_postfix(loss=loss.item())\n",
    "\n",
    "#     # Calculate average loss and accuracy\n",
    "#     train_loss /= len(train_loader)\n",
    "#     train_accuracy = 100 * correct / total\n",
    "\n",
    "#     # Log to TensorBoard\n",
    "#     writer.add_scalar('Loss/train', train_loss, epoch)\n",
    "#     writer.add_scalar('Accuracy/train', train_accuracy, epoch)\n",
    "\n",
    "# # Evaluation\n",
    "# model.eval()\n",
    "# val_predictions = []\n",
    "# val_true_labels = []\n",
    "# val_loss = 0\n",
    "# val_loader_tqdm = tqdm(val_loader, desc='Validation', leave=False)\n",
    "\n",
    "# with torch.no_grad():\n",
    "#     for batch in val_loader_tqdm:\n",
    "#         inputs, masks, labels = batch\n",
    "#         outputs = model(inputs, attention_mask=masks)\n",
    "#         logits = outputs.logits\n",
    "#         loss = criterion(logits, labels)\n",
    "#         val_loss += loss.item()\n",
    "#         predicted_labels = torch.argmax(logits, dim=1)\n",
    "#         val_predictions.extend(predicted_labels.tolist())\n",
    "#         val_true_labels.extend(labels.tolist())\n",
    "\n",
    "# # Calculate validation loss and accuracy\n",
    "# val_loss /= len(val_loader)\n",
    "# val_accuracy = accuracy_score(val_true_labels, val_predictions)\n",
    "\n",
    "# # Log to TensorBoard\n",
    "# writer.add_scalar('Loss/validation', val_loss, epoch)\n",
    "# writer.add_scalar('Accuracy/validation', val_accuracy, epoch)\n",
    "\n",
    "# # Additional metrics\n",
    "# classification_rep = classification_report(val_true_labels, val_predictions, target_names=['Negative', 'Neutral', 'Positive'], output_dict=True)\n",
    "# conf_matrix = confusion_matrix(val_true_labels, val_predictions)\n",
    "\n",
    "# # Convert confusion matrix to image tensor\n",
    "# cm_image = plot_confusion_matrix(conf_matrix, ['Negative', 'Neutral', 'Positive'])\n",
    "\n",
    "# # Log to TensorBoard\n",
    "# writer.add_scalar('Metrics/Accuracy', val_accuracy)\n",
    "# for label, metrics in classification_rep.items():\n",
    "#     if isinstance(metrics, dict):\n",
    "#         writer.add_scalars(f'Metrics/Classification_Report/{label}', metrics, epoch)\n",
    "# writer.add_image('Metrics/Confusion_Matrix', cm_image, epoch)\n",
    "\n",
    "# # Close tqdm progress bar for validation\n",
    "# val_loader_tqdm.close()\n",
    "\n",
    "# # Close TensorBoard writer\n",
    "# writer.close()"
   ]
  },
  {
   "cell_type": "markdown",
   "id": "ee0f93ca",
   "metadata": {},
   "source": [
    "### Instead we will implement classical random forest models, then XGboost"
   ]
  },
  {
   "cell_type": "code",
   "execution_count": 251,
   "id": "697950f9",
   "metadata": {},
   "outputs": [
    {
     "name": "stderr",
     "output_type": "stream",
     "text": [
      "Cleaning and Correcting summaries: 100%|███████████████████████████████████████| 50000/50000 [00:06<00:00, 7407.21it/s]\n"
     ]
    }
   ],
   "source": [
    "sampled_reviews['review_clean'] = sampled_reviews['review_text'].progress_apply(clean_text)"
   ]
  },
  {
   "cell_type": "code",
   "execution_count": 340,
   "id": "99d03351",
   "metadata": {},
   "outputs": [],
   "source": [
    "def assign_sentiment(rating):\n",
    "    if rating <= 2:\n",
    "        return 'negative'\n",
    "    elif rating == 3:\n",
    "        return 'neutral'\n",
    "    return 'positive'\n",
    "\n",
    "sampled_reviews['sentiment'] = sampled_reviews['rating'].apply(assign_sentiment)"
   ]
  },
  {
   "cell_type": "code",
   "execution_count": 341,
   "id": "185cb85e",
   "metadata": {},
   "outputs": [],
   "source": [
    "X = sampled_reviews['review_clean']\n",
    "y = sampled_reviews['sentiment']\n",
    "\n",
    "X_train, X_test, y_train, y_test = train_test_split(X, y, test_size=0.2, random_state=42)"
   ]
  },
  {
   "cell_type": "code",
   "execution_count": 342,
   "id": "9424760a",
   "metadata": {},
   "outputs": [],
   "source": [
    "vectorizer = TfidfVectorizer(stop_words='english', max_features=10000)\n",
    "X_train_tfidf = vectorizer.fit_transform(X_train)\n",
    "X_test_tfidf = vectorizer.transform(X_test)"
   ]
  },
  {
   "cell_type": "code",
   "execution_count": 353,
   "id": "0c10fa7a",
   "metadata": {},
   "outputs": [
    {
     "data": {
      "text/plain": [
       "['D:/s9/NLP/github_projectapp_repo/NLP_project_app/tfidf_vectorizer.joblib']"
      ]
     },
     "execution_count": 353,
     "metadata": {},
     "output_type": "execute_result"
    }
   ],
   "source": [
    "#joblib.dump(vectorizer, 'D:/s9/NLP/github_projectapp_repo/NLP_project_app/tfidf_vectorizer.joblib')"
   ]
  },
  {
   "cell_type": "code",
   "execution_count": 255,
   "id": "9fcc7b3f",
   "metadata": {},
   "outputs": [],
   "source": [
    "class TqdmParallel(Parallel):\n",
    "    def __call__(self, *args, **kwargs):\n",
    "        with tqdm(total=kwargs.pop('total', self.n_jobs)) as self._tqdm:\n",
    "            return Parallel.__call__(self, *args, **kwargs)\n",
    "\n",
    "    def print_progress(self):\n",
    "        if self._tqdm.total == self.n_dispatched_tasks:\n",
    "            self._tqdm.update(n=self.n_completed_tasks - self._tqdm.n)\n",
    "        else:\n",
    "            self._tqdm.total = self.n_dispatched_tasks\n",
    "            self._tqdm.update(n=self.n_completed_tasks - self._tqdm.n)\n",
    "\n",
    "# Train the RandomForestClassifier\n",
    "rf_classifier = RandomForestClassifier(n_estimators=100, random_state=42, n_jobs=-1)\n",
    "\n",
    "with parallel_backend('loky', n_jobs=-1):\n",
    "    rf_classifier.fit(X_train_tfidf, y_train)"
   ]
  },
  {
   "cell_type": "code",
   "execution_count": 256,
   "id": "a6686d04",
   "metadata": {
    "scrolled": false
   },
   "outputs": [
    {
     "name": "stdout",
     "output_type": "stream",
     "text": [
      "              precision    recall  f1-score   support\n",
      "\n",
      "    negative       0.87      0.26      0.41      1364\n",
      "     neutral       0.89      0.20      0.32      1975\n",
      "    positive       0.72      0.99      0.84      6661\n",
      "\n",
      "    accuracy                           0.74     10000\n",
      "   macro avg       0.83      0.48      0.52     10000\n",
      "weighted avg       0.77      0.74      0.68     10000\n",
      "\n",
      "Accuracy: 0.7362\n"
     ]
    }
   ],
   "source": [
    "from sklearn.metrics import classification_report, accuracy_score\n",
    "\n",
    "y_pred = rf_classifier.predict(X_test_tfidf)\n",
    "print(classification_report(y_test, y_pred))\n",
    "print(\"Accuracy:\", accuracy_score(y_test, y_pred))"
   ]
  },
  {
   "cell_type": "markdown",
   "id": "cb15f69a",
   "metadata": {},
   "source": [
    "### This basic model is not bad, let's try to find optimal hyper-parameters :"
   ]
  },
  {
   "cell_type": "code",
   "execution_count": 257,
   "id": "193675bf",
   "metadata": {},
   "outputs": [],
   "source": [
    "param_grid = {\n",
    "    'n_estimators': [100, 200, 300],\n",
    "    'max_depth': [10, 20, 30, None],\n",
    "    'min_samples_split': [2, 5, 10],\n",
    "    'min_samples_leaf': [1, 2, 4]\n",
    "}"
   ]
  },
  {
   "cell_type": "code",
   "execution_count": 258,
   "id": "d7a9c347",
   "metadata": {},
   "outputs": [
    {
     "name": "stdout",
     "output_type": "stream",
     "text": [
      "Fitting 3 folds for each of 108 candidates, totalling 324 fits\n"
     ]
    },
    {
     "data": {
      "text/plain": [
       "GridSearchCV(cv=3, estimator=RandomForestClassifier(n_jobs=-1, random_state=42),\n",
       "             n_jobs=-1,\n",
       "             param_grid={'max_depth': [10, 20, 30, None],\n",
       "                         'min_samples_leaf': [1, 2, 4],\n",
       "                         'min_samples_split': [2, 5, 10],\n",
       "                         'n_estimators': [100, 200, 300]},\n",
       "             verbose=2)"
      ]
     },
     "execution_count": 258,
     "metadata": {},
     "output_type": "execute_result"
    }
   ],
   "source": [
    "from sklearn.model_selection import GridSearchCV\n",
    "from sklearn.ensemble import RandomForestClassifier\n",
    "\n",
    "rf = RandomForestClassifier(random_state=42, n_jobs=-1)\n",
    "grid_search = GridSearchCV(estimator=rf, param_grid=param_grid, cv=3, n_jobs=-1, verbose=2)\n",
    "\n",
    "grid_search.fit(X_train_tfidf, y_train)\n"
   ]
  },
  {
   "cell_type": "code",
   "execution_count": 259,
   "id": "e67fa861",
   "metadata": {},
   "outputs": [
    {
     "name": "stdout",
     "output_type": "stream",
     "text": [
      "Best parameters: {'max_depth': None, 'min_samples_leaf': 1, 'min_samples_split': 5, 'n_estimators': 100}\n"
     ]
    }
   ],
   "source": [
    "best_params = grid_search.best_params_\n",
    "print(\"Best parameters:\", best_params)"
   ]
  },
  {
   "cell_type": "code",
   "execution_count": 354,
   "id": "7022c4f6",
   "metadata": {},
   "outputs": [
    {
     "data": {
      "text/plain": [
       "RandomForestClassifier(min_samples_split=5, n_jobs=-1, random_state=42)"
      ]
     },
     "execution_count": 354,
     "metadata": {},
     "output_type": "execute_result"
    }
   ],
   "source": [
    "optimized_rf = RandomForestClassifier(\n",
    "    n_estimators=100,\n",
    "    max_depth=None,\n",
    "    min_samples_leaf=1,\n",
    "    min_samples_split=5,\n",
    "    random_state=42,\n",
    "    n_jobs=-1\n",
    ")\n",
    "\n",
    "optimized_rf.fit(X_train_tfidf, y_train)"
   ]
  },
  {
   "cell_type": "code",
   "execution_count": 355,
   "id": "79233ff8",
   "metadata": {
    "scrolled": false
   },
   "outputs": [
    {
     "name": "stdout",
     "output_type": "stream",
     "text": [
      "              precision    recall  f1-score   support\n",
      "\n",
      "    negative       0.87      0.27      0.41      1364\n",
      "     neutral       0.86      0.19      0.31      1975\n",
      "    positive       0.72      0.99      0.84      6661\n",
      "\n",
      "    accuracy                           0.74     10000\n",
      "   macro avg       0.82      0.48      0.52     10000\n",
      "weighted avg       0.77      0.74      0.68     10000\n",
      "\n",
      "Accuracy: 0.7363\n"
     ]
    }
   ],
   "source": [
    "optimized_predictions = optimized_rf.predict(X_test_tfidf)\n",
    "\n",
    "# Evaluate the model\n",
    "print(classification_report(y_test, optimized_predictions))\n",
    "print(\"Accuracy:\", accuracy_score(y_test, optimized_predictions))"
   ]
  },
  {
   "cell_type": "markdown",
   "id": "643c9538",
   "metadata": {},
   "source": [
    "### Saving the model"
   ]
  },
  {
   "cell_type": "code",
   "execution_count": 357,
   "id": "05d5e600",
   "metadata": {},
   "outputs": [
    {
     "data": {
      "text/plain": [
       "['D:/s9/NLP/github_projectapp_repo/NLP_project_app/optimized_rf_model.joblib']"
      ]
     },
     "execution_count": 357,
     "metadata": {},
     "output_type": "execute_result"
    }
   ],
   "source": [
    "# Save the model to a file\n",
    "#joblib.dump(optimized_rf, 'D:/s9/NLP/github_projectapp_repo/NLP_project_app/optimized_rf_model.joblib')\n",
    "#joblib.dump(new_tfidf_vectorizer, 'D:/s9/NLP/project2_app/NLP_project2_app/QA_tfidf_vectorizer.joblib')"
   ]
  },
  {
   "cell_type": "markdown",
   "id": "3be8494c",
   "metadata": {},
   "source": [
    "Testing with input sentences/reviews"
   ]
  },
  {
   "cell_type": "code",
   "execution_count": 284,
   "id": "38e41031",
   "metadata": {},
   "outputs": [],
   "source": [
    "def predict_sentiment(review, model, vectorizer, label_encoder):\n",
    "    # Preprocess the input the same way the training data was\n",
    "    review = clean_text(review)\n",
    "    review_vectorized = vectorizer.transform([review])\n",
    "\n",
    "    # Make a prediction\n",
    "    prediction_label = model.predict(review_vectorized)[0]\n",
    "    prediction_proba = model.predict_proba(review_vectorized)[0]\n",
    "\n",
    "    # Map the predicted label to its index\n",
    "    prediction_index = label_encoder.transform([prediction_label])[0]\n",
    "\n",
    "    # Get the probability of the predicted class\n",
    "    score = prediction_proba[prediction_index]\n",
    "\n",
    "    return prediction_label, score"
   ]
  },
  {
   "cell_type": "code",
   "execution_count": 310,
   "id": "ca0f49a0",
   "metadata": {},
   "outputs": [],
   "source": [
    "# Loading the model\n",
    "#optimized_rf = joblib.load('optimized_rf_model.joblib')"
   ]
  },
  {
   "cell_type": "code",
   "execution_count": 351,
   "id": "c3bd9325",
   "metadata": {
    "scrolled": true
   },
   "outputs": [
    {
     "name": "stdout",
     "output_type": "stream",
     "text": [
      "Sentiment: negative, Score: 0.4436507936507937\n"
     ]
    }
   ],
   "source": [
    "review_text = \"bad book\"\n",
    "label_encoder = LabelEncoder().fit(['negative', 'neutral', 'positive'])  # Fit with all possible labels\n",
    "sentiment, score = predict_sentiment(review_text, optimized_rf, vectorizer, label_encoder)\n",
    "print(f\"Sentiment: {sentiment}, Score: {score}\")"
   ]
  },
  {
   "cell_type": "markdown",
   "id": "f5df1137",
   "metadata": {},
   "source": [
    "### Let's try to fit another model for the same sentiment analysis task :"
   ]
  },
  {
   "cell_type": "markdown",
   "id": "381af9f5",
   "metadata": {},
   "source": [
    "### Xgboost for sentiment analysis"
   ]
  },
  {
   "cell_type": "code",
   "execution_count": 265,
   "id": "9da5aa29",
   "metadata": {},
   "outputs": [],
   "source": [
    "from sklearn.preprocessing import LabelEncoder\n",
    "\n",
    "label_encoder = LabelEncoder()\n",
    "y_train_encoded = label_encoder.fit_transform(y_train)\n",
    "y_test_encoded = label_encoder.transform(y_test)"
   ]
  },
  {
   "cell_type": "code",
   "execution_count": 268,
   "id": "501bd670",
   "metadata": {
    "scrolled": false
   },
   "outputs": [],
   "source": [
    "dtrain = xgb.DMatrix(X_train_tfidf, label=y_train_encoded)\n",
    "dtest = xgb.DMatrix(X_test_tfidf, label=y_test_encoded)"
   ]
  },
  {
   "cell_type": "code",
   "execution_count": 269,
   "id": "6cfd0d2e",
   "metadata": {},
   "outputs": [],
   "source": [
    "params = {\n",
    "    'max_depth': 6,\n",
    "    'min_child_weight': 1,\n",
    "    'eta': .3,\n",
    "    'subsample': 1,\n",
    "    'colsample_bytree': 1,\n",
    "    'objective': 'multi:softprob',\n",
    "    'num_class': 3\n",
    "}"
   ]
  },
  {
   "cell_type": "code",
   "execution_count": 270,
   "id": "1fd42465",
   "metadata": {
    "collapsed": true
   },
   "outputs": [
    {
     "name": "stdout",
     "output_type": "stream",
     "text": [
      "[0]\tTest-mlogloss:0.97519\n",
      "[1]\tTest-mlogloss:0.90234\n",
      "[2]\tTest-mlogloss:0.85680\n",
      "[3]\tTest-mlogloss:0.82718\n",
      "[4]\tTest-mlogloss:0.80678\n",
      "[5]\tTest-mlogloss:0.79182\n",
      "[6]\tTest-mlogloss:0.78048\n",
      "[7]\tTest-mlogloss:0.77072\n",
      "[8]\tTest-mlogloss:0.76289\n",
      "[9]\tTest-mlogloss:0.75651\n",
      "[10]\tTest-mlogloss:0.75126\n",
      "[11]\tTest-mlogloss:0.74708\n",
      "[12]\tTest-mlogloss:0.74224\n",
      "[13]\tTest-mlogloss:0.73833\n",
      "[14]\tTest-mlogloss:0.73497\n",
      "[15]\tTest-mlogloss:0.73128\n",
      "[16]\tTest-mlogloss:0.72836\n",
      "[17]\tTest-mlogloss:0.72547\n",
      "[18]\tTest-mlogloss:0.72294\n",
      "[19]\tTest-mlogloss:0.72008\n",
      "[20]\tTest-mlogloss:0.71738\n",
      "[21]\tTest-mlogloss:0.71519\n",
      "[22]\tTest-mlogloss:0.71299\n",
      "[23]\tTest-mlogloss:0.71150\n",
      "[24]\tTest-mlogloss:0.70954\n",
      "[25]\tTest-mlogloss:0.70717\n",
      "[26]\tTest-mlogloss:0.70512\n",
      "[27]\tTest-mlogloss:0.70290\n",
      "[28]\tTest-mlogloss:0.70135\n",
      "[29]\tTest-mlogloss:0.69950\n",
      "[30]\tTest-mlogloss:0.69765\n",
      "[31]\tTest-mlogloss:0.69602\n",
      "[32]\tTest-mlogloss:0.69420\n",
      "[33]\tTest-mlogloss:0.69275\n",
      "[34]\tTest-mlogloss:0.69129\n",
      "[35]\tTest-mlogloss:0.68997\n",
      "[36]\tTest-mlogloss:0.68816\n",
      "[37]\tTest-mlogloss:0.68708\n",
      "[38]\tTest-mlogloss:0.68611\n",
      "[39]\tTest-mlogloss:0.68477\n",
      "[40]\tTest-mlogloss:0.68372\n",
      "[41]\tTest-mlogloss:0.68267\n",
      "[42]\tTest-mlogloss:0.68130\n",
      "[43]\tTest-mlogloss:0.68042\n",
      "[44]\tTest-mlogloss:0.67926\n",
      "[45]\tTest-mlogloss:0.67821\n",
      "[46]\tTest-mlogloss:0.67711\n",
      "[47]\tTest-mlogloss:0.67572\n",
      "[48]\tTest-mlogloss:0.67489\n",
      "[49]\tTest-mlogloss:0.67381\n",
      "[50]\tTest-mlogloss:0.67310\n",
      "[51]\tTest-mlogloss:0.67223\n",
      "[52]\tTest-mlogloss:0.67156\n",
      "[53]\tTest-mlogloss:0.67043\n",
      "[54]\tTest-mlogloss:0.66972\n",
      "[55]\tTest-mlogloss:0.66892\n",
      "[56]\tTest-mlogloss:0.66820\n",
      "[57]\tTest-mlogloss:0.66760\n",
      "[58]\tTest-mlogloss:0.66697\n",
      "[59]\tTest-mlogloss:0.66621\n",
      "[60]\tTest-mlogloss:0.66524\n",
      "[61]\tTest-mlogloss:0.66464\n",
      "[62]\tTest-mlogloss:0.66381\n",
      "[63]\tTest-mlogloss:0.66329\n",
      "[64]\tTest-mlogloss:0.66273\n",
      "[65]\tTest-mlogloss:0.66201\n",
      "[66]\tTest-mlogloss:0.66132\n",
      "[67]\tTest-mlogloss:0.66060\n",
      "[68]\tTest-mlogloss:0.66000\n",
      "[69]\tTest-mlogloss:0.65954\n",
      "[70]\tTest-mlogloss:0.65889\n",
      "[71]\tTest-mlogloss:0.65824\n",
      "[72]\tTest-mlogloss:0.65761\n",
      "[73]\tTest-mlogloss:0.65711\n",
      "[74]\tTest-mlogloss:0.65672\n",
      "[75]\tTest-mlogloss:0.65615\n",
      "[76]\tTest-mlogloss:0.65546\n",
      "[77]\tTest-mlogloss:0.65486\n",
      "[78]\tTest-mlogloss:0.65439\n",
      "[79]\tTest-mlogloss:0.65388\n",
      "[80]\tTest-mlogloss:0.65325\n",
      "[81]\tTest-mlogloss:0.65258\n",
      "[82]\tTest-mlogloss:0.65201\n",
      "[83]\tTest-mlogloss:0.65157\n",
      "[84]\tTest-mlogloss:0.65101\n",
      "[85]\tTest-mlogloss:0.65041\n",
      "[86]\tTest-mlogloss:0.64974\n",
      "[87]\tTest-mlogloss:0.64920\n",
      "[88]\tTest-mlogloss:0.64906\n",
      "[89]\tTest-mlogloss:0.64863\n",
      "[90]\tTest-mlogloss:0.64811\n",
      "[91]\tTest-mlogloss:0.64771\n",
      "[92]\tTest-mlogloss:0.64745\n",
      "[93]\tTest-mlogloss:0.64711\n",
      "[94]\tTest-mlogloss:0.64656\n",
      "[95]\tTest-mlogloss:0.64614\n",
      "[96]\tTest-mlogloss:0.64567\n",
      "[97]\tTest-mlogloss:0.64516\n",
      "[98]\tTest-mlogloss:0.64484\n",
      "[99]\tTest-mlogloss:0.64455\n",
      "[100]\tTest-mlogloss:0.64428\n",
      "[101]\tTest-mlogloss:0.64394\n",
      "[102]\tTest-mlogloss:0.64378\n",
      "[103]\tTest-mlogloss:0.64341\n",
      "[104]\tTest-mlogloss:0.64332\n",
      "[105]\tTest-mlogloss:0.64332\n",
      "[106]\tTest-mlogloss:0.64305\n",
      "[107]\tTest-mlogloss:0.64306\n",
      "[108]\tTest-mlogloss:0.64293\n",
      "[109]\tTest-mlogloss:0.64252\n",
      "[110]\tTest-mlogloss:0.64220\n",
      "[111]\tTest-mlogloss:0.64208\n",
      "[112]\tTest-mlogloss:0.64182\n",
      "[113]\tTest-mlogloss:0.64152\n",
      "[114]\tTest-mlogloss:0.64107\n",
      "[115]\tTest-mlogloss:0.64064\n",
      "[116]\tTest-mlogloss:0.64017\n",
      "[117]\tTest-mlogloss:0.63986\n",
      "[118]\tTest-mlogloss:0.63957\n",
      "[119]\tTest-mlogloss:0.63908\n",
      "[120]\tTest-mlogloss:0.63877\n",
      "[121]\tTest-mlogloss:0.63854\n",
      "[122]\tTest-mlogloss:0.63832\n",
      "[123]\tTest-mlogloss:0.63792\n",
      "[124]\tTest-mlogloss:0.63772\n",
      "[125]\tTest-mlogloss:0.63730\n",
      "[126]\tTest-mlogloss:0.63681\n",
      "[127]\tTest-mlogloss:0.63662\n",
      "[128]\tTest-mlogloss:0.63646\n",
      "[129]\tTest-mlogloss:0.63588\n",
      "[130]\tTest-mlogloss:0.63564\n",
      "[131]\tTest-mlogloss:0.63544\n",
      "[132]\tTest-mlogloss:0.63509\n",
      "[133]\tTest-mlogloss:0.63510\n",
      "[134]\tTest-mlogloss:0.63476\n",
      "[135]\tTest-mlogloss:0.63470\n",
      "[136]\tTest-mlogloss:0.63461\n",
      "[137]\tTest-mlogloss:0.63459\n",
      "[138]\tTest-mlogloss:0.63442\n",
      "[139]\tTest-mlogloss:0.63408\n",
      "[140]\tTest-mlogloss:0.63396\n",
      "[141]\tTest-mlogloss:0.63349\n",
      "[142]\tTest-mlogloss:0.63326\n",
      "[143]\tTest-mlogloss:0.63295\n",
      "[144]\tTest-mlogloss:0.63279\n",
      "[145]\tTest-mlogloss:0.63258\n",
      "[146]\tTest-mlogloss:0.63248\n",
      "[147]\tTest-mlogloss:0.63235\n",
      "[148]\tTest-mlogloss:0.63227\n",
      "[149]\tTest-mlogloss:0.63211\n",
      "[150]\tTest-mlogloss:0.63191\n",
      "[151]\tTest-mlogloss:0.63151\n",
      "[152]\tTest-mlogloss:0.63134\n",
      "[153]\tTest-mlogloss:0.63102\n",
      "[154]\tTest-mlogloss:0.63084\n",
      "[155]\tTest-mlogloss:0.63068\n",
      "[156]\tTest-mlogloss:0.63033\n",
      "[157]\tTest-mlogloss:0.63026\n",
      "[158]\tTest-mlogloss:0.63006\n",
      "[159]\tTest-mlogloss:0.62995\n",
      "[160]\tTest-mlogloss:0.62967\n",
      "[161]\tTest-mlogloss:0.62960\n",
      "[162]\tTest-mlogloss:0.62950\n",
      "[163]\tTest-mlogloss:0.62935\n",
      "[164]\tTest-mlogloss:0.62906\n",
      "[165]\tTest-mlogloss:0.62884\n",
      "[166]\tTest-mlogloss:0.62851\n",
      "[167]\tTest-mlogloss:0.62824\n",
      "[168]\tTest-mlogloss:0.62803\n",
      "[169]\tTest-mlogloss:0.62776\n",
      "[170]\tTest-mlogloss:0.62767\n",
      "[171]\tTest-mlogloss:0.62742\n",
      "[172]\tTest-mlogloss:0.62710\n",
      "[173]\tTest-mlogloss:0.62667\n",
      "[174]\tTest-mlogloss:0.62647\n",
      "[175]\tTest-mlogloss:0.62627\n",
      "[176]\tTest-mlogloss:0.62621\n",
      "[177]\tTest-mlogloss:0.62595\n",
      "[178]\tTest-mlogloss:0.62576\n",
      "[179]\tTest-mlogloss:0.62559\n",
      "[180]\tTest-mlogloss:0.62554\n",
      "[181]\tTest-mlogloss:0.62541\n",
      "[182]\tTest-mlogloss:0.62521\n",
      "[183]\tTest-mlogloss:0.62517\n",
      "[184]\tTest-mlogloss:0.62504\n",
      "[185]\tTest-mlogloss:0.62472\n",
      "[186]\tTest-mlogloss:0.62461\n",
      "[187]\tTest-mlogloss:0.62442\n",
      "[188]\tTest-mlogloss:0.62442\n",
      "[189]\tTest-mlogloss:0.62427\n",
      "[190]\tTest-mlogloss:0.62404\n",
      "[191]\tTest-mlogloss:0.62384\n",
      "[192]\tTest-mlogloss:0.62360\n",
      "[193]\tTest-mlogloss:0.62341\n",
      "[194]\tTest-mlogloss:0.62336\n",
      "[195]\tTest-mlogloss:0.62321\n",
      "[196]\tTest-mlogloss:0.62302\n",
      "[197]\tTest-mlogloss:0.62296\n",
      "[198]\tTest-mlogloss:0.62286\n",
      "[199]\tTest-mlogloss:0.62270\n",
      "[200]\tTest-mlogloss:0.62243\n",
      "[201]\tTest-mlogloss:0.62219\n",
      "[202]\tTest-mlogloss:0.62182\n",
      "[203]\tTest-mlogloss:0.62172\n",
      "[204]\tTest-mlogloss:0.62149\n",
      "[205]\tTest-mlogloss:0.62142\n",
      "[206]\tTest-mlogloss:0.62148\n",
      "[207]\tTest-mlogloss:0.62137\n",
      "[208]\tTest-mlogloss:0.62129\n",
      "[209]\tTest-mlogloss:0.62126\n",
      "[210]\tTest-mlogloss:0.62129\n",
      "[211]\tTest-mlogloss:0.62098\n",
      "[212]\tTest-mlogloss:0.62077\n",
      "[213]\tTest-mlogloss:0.62061\n",
      "[214]\tTest-mlogloss:0.62048\n",
      "[215]\tTest-mlogloss:0.62041\n",
      "[216]\tTest-mlogloss:0.62028\n",
      "[217]\tTest-mlogloss:0.62026\n",
      "[218]\tTest-mlogloss:0.61999\n",
      "[219]\tTest-mlogloss:0.61983\n",
      "[220]\tTest-mlogloss:0.61988\n",
      "[221]\tTest-mlogloss:0.61964\n",
      "[222]\tTest-mlogloss:0.61940\n",
      "[223]\tTest-mlogloss:0.61921\n",
      "[224]\tTest-mlogloss:0.61907\n",
      "[225]\tTest-mlogloss:0.61907\n",
      "[226]\tTest-mlogloss:0.61884\n",
      "[227]\tTest-mlogloss:0.61867\n",
      "[228]\tTest-mlogloss:0.61851\n",
      "[229]\tTest-mlogloss:0.61834\n",
      "[230]\tTest-mlogloss:0.61831\n",
      "[231]\tTest-mlogloss:0.61819\n",
      "[232]\tTest-mlogloss:0.61789\n",
      "[233]\tTest-mlogloss:0.61800\n",
      "[234]\tTest-mlogloss:0.61780\n",
      "[235]\tTest-mlogloss:0.61784\n",
      "[236]\tTest-mlogloss:0.61763\n",
      "[237]\tTest-mlogloss:0.61766\n",
      "[238]\tTest-mlogloss:0.61754\n",
      "[239]\tTest-mlogloss:0.61742\n",
      "[240]\tTest-mlogloss:0.61737\n",
      "[241]\tTest-mlogloss:0.61713\n",
      "[242]\tTest-mlogloss:0.61696\n",
      "[243]\tTest-mlogloss:0.61705\n",
      "[244]\tTest-mlogloss:0.61690\n",
      "[245]\tTest-mlogloss:0.61679\n",
      "[246]\tTest-mlogloss:0.61671\n",
      "[247]\tTest-mlogloss:0.61651\n",
      "[248]\tTest-mlogloss:0.61632\n",
      "[249]\tTest-mlogloss:0.61622\n",
      "[250]\tTest-mlogloss:0.61615\n",
      "[251]\tTest-mlogloss:0.61619\n",
      "[252]\tTest-mlogloss:0.61611\n",
      "[253]\tTest-mlogloss:0.61604\n",
      "[254]\tTest-mlogloss:0.61617\n",
      "[255]\tTest-mlogloss:0.61602\n",
      "[256]\tTest-mlogloss:0.61595\n",
      "[257]\tTest-mlogloss:0.61597\n",
      "[258]\tTest-mlogloss:0.61581\n",
      "[259]\tTest-mlogloss:0.61581\n",
      "[260]\tTest-mlogloss:0.61572\n",
      "[261]\tTest-mlogloss:0.61567\n",
      "[262]\tTest-mlogloss:0.61547\n",
      "[263]\tTest-mlogloss:0.61537\n",
      "[264]\tTest-mlogloss:0.61526\n",
      "[265]\tTest-mlogloss:0.61506\n",
      "[266]\tTest-mlogloss:0.61475\n",
      "[267]\tTest-mlogloss:0.61449\n",
      "[268]\tTest-mlogloss:0.61438\n",
      "[269]\tTest-mlogloss:0.61447\n",
      "[270]\tTest-mlogloss:0.61443\n",
      "[271]\tTest-mlogloss:0.61426\n",
      "[272]\tTest-mlogloss:0.61419\n",
      "[273]\tTest-mlogloss:0.61407\n",
      "[274]\tTest-mlogloss:0.61392\n",
      "[275]\tTest-mlogloss:0.61368\n",
      "[276]\tTest-mlogloss:0.61350\n",
      "[277]\tTest-mlogloss:0.61340\n",
      "[278]\tTest-mlogloss:0.61320\n",
      "[279]\tTest-mlogloss:0.61311\n",
      "[280]\tTest-mlogloss:0.61315\n",
      "[281]\tTest-mlogloss:0.61313\n",
      "[282]\tTest-mlogloss:0.61308\n",
      "[283]\tTest-mlogloss:0.61304\n",
      "[284]\tTest-mlogloss:0.61290\n",
      "[285]\tTest-mlogloss:0.61278\n",
      "[286]\tTest-mlogloss:0.61281\n",
      "[287]\tTest-mlogloss:0.61262\n",
      "[288]\tTest-mlogloss:0.61256\n",
      "[289]\tTest-mlogloss:0.61242\n",
      "[290]\tTest-mlogloss:0.61236\n",
      "[291]\tTest-mlogloss:0.61200\n",
      "[292]\tTest-mlogloss:0.61192\n",
      "[293]\tTest-mlogloss:0.61199\n",
      "[294]\tTest-mlogloss:0.61189\n",
      "[295]\tTest-mlogloss:0.61185\n",
      "[296]\tTest-mlogloss:0.61187\n"
     ]
    },
    {
     "name": "stdout",
     "output_type": "stream",
     "text": [
      "[297]\tTest-mlogloss:0.61178\n",
      "[298]\tTest-mlogloss:0.61174\n",
      "[299]\tTest-mlogloss:0.61164\n",
      "[300]\tTest-mlogloss:0.61163\n",
      "[301]\tTest-mlogloss:0.61178\n",
      "[302]\tTest-mlogloss:0.61174\n",
      "[303]\tTest-mlogloss:0.61155\n",
      "[304]\tTest-mlogloss:0.61150\n",
      "[305]\tTest-mlogloss:0.61133\n",
      "[306]\tTest-mlogloss:0.61122\n",
      "[307]\tTest-mlogloss:0.61120\n",
      "[308]\tTest-mlogloss:0.61115\n",
      "[309]\tTest-mlogloss:0.61107\n",
      "[310]\tTest-mlogloss:0.61099\n",
      "[311]\tTest-mlogloss:0.61100\n",
      "[312]\tTest-mlogloss:0.61097\n",
      "[313]\tTest-mlogloss:0.61095\n",
      "[314]\tTest-mlogloss:0.61096\n",
      "[315]\tTest-mlogloss:0.61095\n",
      "[316]\tTest-mlogloss:0.61085\n",
      "[317]\tTest-mlogloss:0.61085\n",
      "[318]\tTest-mlogloss:0.61075\n",
      "[319]\tTest-mlogloss:0.61070\n",
      "[320]\tTest-mlogloss:0.61070\n",
      "[321]\tTest-mlogloss:0.61069\n",
      "[322]\tTest-mlogloss:0.61056\n",
      "[323]\tTest-mlogloss:0.61054\n",
      "[324]\tTest-mlogloss:0.61041\n",
      "[325]\tTest-mlogloss:0.61016\n",
      "[326]\tTest-mlogloss:0.61012\n",
      "[327]\tTest-mlogloss:0.61021\n",
      "[328]\tTest-mlogloss:0.61014\n",
      "[329]\tTest-mlogloss:0.61009\n",
      "[330]\tTest-mlogloss:0.61011\n",
      "[331]\tTest-mlogloss:0.61003\n",
      "[332]\tTest-mlogloss:0.60997\n",
      "[333]\tTest-mlogloss:0.60992\n",
      "[334]\tTest-mlogloss:0.60966\n",
      "[335]\tTest-mlogloss:0.60982\n",
      "[336]\tTest-mlogloss:0.60972\n",
      "[337]\tTest-mlogloss:0.60963\n",
      "[338]\tTest-mlogloss:0.60953\n",
      "[339]\tTest-mlogloss:0.60947\n",
      "[340]\tTest-mlogloss:0.60941\n",
      "[341]\tTest-mlogloss:0.60939\n",
      "[342]\tTest-mlogloss:0.60921\n",
      "[343]\tTest-mlogloss:0.60918\n",
      "[344]\tTest-mlogloss:0.60909\n",
      "[345]\tTest-mlogloss:0.60909\n",
      "[346]\tTest-mlogloss:0.60914\n",
      "[347]\tTest-mlogloss:0.60897\n",
      "[348]\tTest-mlogloss:0.60887\n",
      "[349]\tTest-mlogloss:0.60861\n",
      "[350]\tTest-mlogloss:0.60860\n",
      "[351]\tTest-mlogloss:0.60845\n",
      "[352]\tTest-mlogloss:0.60845\n",
      "[353]\tTest-mlogloss:0.60836\n",
      "[354]\tTest-mlogloss:0.60827\n",
      "[355]\tTest-mlogloss:0.60817\n",
      "[356]\tTest-mlogloss:0.60799\n",
      "[357]\tTest-mlogloss:0.60787\n",
      "[358]\tTest-mlogloss:0.60779\n",
      "[359]\tTest-mlogloss:0.60774\n",
      "[360]\tTest-mlogloss:0.60776\n",
      "[361]\tTest-mlogloss:0.60775\n",
      "[362]\tTest-mlogloss:0.60774\n",
      "[363]\tTest-mlogloss:0.60768\n",
      "[364]\tTest-mlogloss:0.60778\n",
      "[365]\tTest-mlogloss:0.60784\n",
      "[366]\tTest-mlogloss:0.60788\n",
      "[367]\tTest-mlogloss:0.60771\n",
      "[368]\tTest-mlogloss:0.60757\n",
      "[369]\tTest-mlogloss:0.60745\n",
      "[370]\tTest-mlogloss:0.60747\n",
      "[371]\tTest-mlogloss:0.60748\n",
      "[372]\tTest-mlogloss:0.60748\n",
      "[373]\tTest-mlogloss:0.60743\n",
      "[374]\tTest-mlogloss:0.60744\n",
      "[375]\tTest-mlogloss:0.60751\n",
      "[376]\tTest-mlogloss:0.60749\n",
      "[377]\tTest-mlogloss:0.60738\n",
      "[378]\tTest-mlogloss:0.60750\n",
      "[379]\tTest-mlogloss:0.60736\n",
      "[380]\tTest-mlogloss:0.60732\n",
      "[381]\tTest-mlogloss:0.60716\n",
      "[382]\tTest-mlogloss:0.60713\n",
      "[383]\tTest-mlogloss:0.60713\n",
      "[384]\tTest-mlogloss:0.60712\n",
      "[385]\tTest-mlogloss:0.60716\n",
      "[386]\tTest-mlogloss:0.60705\n",
      "[387]\tTest-mlogloss:0.60694\n",
      "[388]\tTest-mlogloss:0.60692\n",
      "[389]\tTest-mlogloss:0.60690\n",
      "[390]\tTest-mlogloss:0.60688\n",
      "[391]\tTest-mlogloss:0.60695\n",
      "[392]\tTest-mlogloss:0.60694\n",
      "[393]\tTest-mlogloss:0.60699\n",
      "[394]\tTest-mlogloss:0.60691\n",
      "[395]\tTest-mlogloss:0.60664\n",
      "[396]\tTest-mlogloss:0.60669\n",
      "[397]\tTest-mlogloss:0.60657\n",
      "[398]\tTest-mlogloss:0.60660\n",
      "[399]\tTest-mlogloss:0.60661\n",
      "[400]\tTest-mlogloss:0.60654\n",
      "[401]\tTest-mlogloss:0.60659\n",
      "[402]\tTest-mlogloss:0.60652\n",
      "[403]\tTest-mlogloss:0.60638\n",
      "[404]\tTest-mlogloss:0.60631\n",
      "[405]\tTest-mlogloss:0.60624\n",
      "[406]\tTest-mlogloss:0.60622\n",
      "[407]\tTest-mlogloss:0.60617\n",
      "[408]\tTest-mlogloss:0.60622\n",
      "[409]\tTest-mlogloss:0.60614\n",
      "[410]\tTest-mlogloss:0.60614\n",
      "[411]\tTest-mlogloss:0.60604\n",
      "[412]\tTest-mlogloss:0.60603\n",
      "[413]\tTest-mlogloss:0.60599\n",
      "[414]\tTest-mlogloss:0.60589\n",
      "[415]\tTest-mlogloss:0.60600\n",
      "[416]\tTest-mlogloss:0.60592\n",
      "[417]\tTest-mlogloss:0.60587\n",
      "[418]\tTest-mlogloss:0.60567\n",
      "[419]\tTest-mlogloss:0.60563\n",
      "[420]\tTest-mlogloss:0.60555\n",
      "[421]\tTest-mlogloss:0.60547\n",
      "[422]\tTest-mlogloss:0.60541\n",
      "[423]\tTest-mlogloss:0.60541\n",
      "[424]\tTest-mlogloss:0.60539\n",
      "[425]\tTest-mlogloss:0.60532\n",
      "[426]\tTest-mlogloss:0.60530\n",
      "[427]\tTest-mlogloss:0.60543\n",
      "[428]\tTest-mlogloss:0.60536\n",
      "[429]\tTest-mlogloss:0.60554\n",
      "[430]\tTest-mlogloss:0.60545\n",
      "[431]\tTest-mlogloss:0.60541\n",
      "[432]\tTest-mlogloss:0.60537\n",
      "[433]\tTest-mlogloss:0.60504\n",
      "[434]\tTest-mlogloss:0.60505\n",
      "[435]\tTest-mlogloss:0.60510\n",
      "[436]\tTest-mlogloss:0.60506\n",
      "[437]\tTest-mlogloss:0.60502\n",
      "[438]\tTest-mlogloss:0.60501\n",
      "[439]\tTest-mlogloss:0.60491\n",
      "[440]\tTest-mlogloss:0.60481\n",
      "[441]\tTest-mlogloss:0.60475\n",
      "[442]\tTest-mlogloss:0.60472\n",
      "[443]\tTest-mlogloss:0.60473\n",
      "[444]\tTest-mlogloss:0.60472\n",
      "[445]\tTest-mlogloss:0.60476\n",
      "[446]\tTest-mlogloss:0.60474\n",
      "[447]\tTest-mlogloss:0.60470\n",
      "[448]\tTest-mlogloss:0.60465\n",
      "[449]\tTest-mlogloss:0.60458\n",
      "[450]\tTest-mlogloss:0.60460\n",
      "[451]\tTest-mlogloss:0.60438\n",
      "[452]\tTest-mlogloss:0.60433\n",
      "[453]\tTest-mlogloss:0.60434\n",
      "[454]\tTest-mlogloss:0.60437\n",
      "[455]\tTest-mlogloss:0.60442\n",
      "[456]\tTest-mlogloss:0.60450\n",
      "[457]\tTest-mlogloss:0.60444\n",
      "[458]\tTest-mlogloss:0.60442\n",
      "[459]\tTest-mlogloss:0.60438\n",
      "[460]\tTest-mlogloss:0.60431\n",
      "[461]\tTest-mlogloss:0.60425\n",
      "[462]\tTest-mlogloss:0.60426\n",
      "[463]\tTest-mlogloss:0.60421\n",
      "[464]\tTest-mlogloss:0.60419\n",
      "[465]\tTest-mlogloss:0.60427\n",
      "[466]\tTest-mlogloss:0.60427\n",
      "[467]\tTest-mlogloss:0.60425\n",
      "[468]\tTest-mlogloss:0.60419\n",
      "[469]\tTest-mlogloss:0.60415\n",
      "[470]\tTest-mlogloss:0.60412\n",
      "[471]\tTest-mlogloss:0.60408\n",
      "[472]\tTest-mlogloss:0.60412\n",
      "[473]\tTest-mlogloss:0.60403\n",
      "[474]\tTest-mlogloss:0.60404\n",
      "[475]\tTest-mlogloss:0.60402\n",
      "[476]\tTest-mlogloss:0.60389\n",
      "[477]\tTest-mlogloss:0.60384\n",
      "[478]\tTest-mlogloss:0.60378\n",
      "[479]\tTest-mlogloss:0.60366\n",
      "[480]\tTest-mlogloss:0.60354\n",
      "[481]\tTest-mlogloss:0.60337\n",
      "[482]\tTest-mlogloss:0.60335\n",
      "[483]\tTest-mlogloss:0.60328\n",
      "[484]\tTest-mlogloss:0.60331\n",
      "[485]\tTest-mlogloss:0.60340\n",
      "[486]\tTest-mlogloss:0.60346\n",
      "[487]\tTest-mlogloss:0.60334\n",
      "[488]\tTest-mlogloss:0.60335\n",
      "[489]\tTest-mlogloss:0.60343\n",
      "[490]\tTest-mlogloss:0.60322\n",
      "[491]\tTest-mlogloss:0.60313\n",
      "[492]\tTest-mlogloss:0.60310\n",
      "[493]\tTest-mlogloss:0.60328\n",
      "[494]\tTest-mlogloss:0.60329\n",
      "[495]\tTest-mlogloss:0.60323\n",
      "[496]\tTest-mlogloss:0.60318\n",
      "[497]\tTest-mlogloss:0.60323\n",
      "[498]\tTest-mlogloss:0.60323\n",
      "[499]\tTest-mlogloss:0.60309\n",
      "[500]\tTest-mlogloss:0.60302\n",
      "[501]\tTest-mlogloss:0.60290\n",
      "[502]\tTest-mlogloss:0.60297\n",
      "[503]\tTest-mlogloss:0.60303\n",
      "[504]\tTest-mlogloss:0.60289\n",
      "[505]\tTest-mlogloss:0.60304\n",
      "[506]\tTest-mlogloss:0.60294\n",
      "[507]\tTest-mlogloss:0.60283\n",
      "[508]\tTest-mlogloss:0.60286\n",
      "[509]\tTest-mlogloss:0.60279\n",
      "[510]\tTest-mlogloss:0.60283\n",
      "[511]\tTest-mlogloss:0.60288\n",
      "[512]\tTest-mlogloss:0.60268\n",
      "[513]\tTest-mlogloss:0.60258\n",
      "[514]\tTest-mlogloss:0.60251\n",
      "[515]\tTest-mlogloss:0.60248\n",
      "[516]\tTest-mlogloss:0.60247\n",
      "[517]\tTest-mlogloss:0.60250\n",
      "[518]\tTest-mlogloss:0.60245\n",
      "[519]\tTest-mlogloss:0.60250\n",
      "[520]\tTest-mlogloss:0.60245\n",
      "[521]\tTest-mlogloss:0.60258\n",
      "[522]\tTest-mlogloss:0.60259\n",
      "[523]\tTest-mlogloss:0.60260\n",
      "[524]\tTest-mlogloss:0.60249\n",
      "[525]\tTest-mlogloss:0.60239\n",
      "[526]\tTest-mlogloss:0.60241\n",
      "[527]\tTest-mlogloss:0.60229\n",
      "[528]\tTest-mlogloss:0.60228\n",
      "[529]\tTest-mlogloss:0.60226\n",
      "[530]\tTest-mlogloss:0.60221\n",
      "[531]\tTest-mlogloss:0.60218\n",
      "[532]\tTest-mlogloss:0.60224\n",
      "[533]\tTest-mlogloss:0.60231\n",
      "[534]\tTest-mlogloss:0.60220\n",
      "[535]\tTest-mlogloss:0.60219\n",
      "[536]\tTest-mlogloss:0.60228\n",
      "[537]\tTest-mlogloss:0.60230\n",
      "[538]\tTest-mlogloss:0.60229\n",
      "[539]\tTest-mlogloss:0.60232\n",
      "[540]\tTest-mlogloss:0.60241\n",
      "[541]\tTest-mlogloss:0.60234\n"
     ]
    }
   ],
   "source": [
    "num_boost_round = 999\n",
    "\n",
    "bst = xgb.train(\n",
    "    params,\n",
    "    dtrain,\n",
    "    num_boost_round=num_boost_round,\n",
    "    evals=[(dtest, \"Test\")],\n",
    "    early_stopping_rounds=10\n",
    ")"
   ]
  },
  {
   "cell_type": "code",
   "execution_count": 271,
   "id": "91713d8d",
   "metadata": {
    "scrolled": true
   },
   "outputs": [
    {
     "name": "stdout",
     "output_type": "stream",
     "text": [
      "              precision    recall  f1-score   support\n",
      "\n",
      "    negative       0.70      0.43      0.53      1364\n",
      "     neutral       0.57      0.34      0.43      1975\n",
      "    positive       0.79      0.94      0.86      6661\n",
      "\n",
      "    accuracy                           0.75     10000\n",
      "   macro avg       0.69      0.57      0.61     10000\n",
      "weighted avg       0.73      0.75      0.73     10000\n",
      "\n",
      "Accuracy: 0.7549\n"
     ]
    }
   ],
   "source": [
    "# Make predictions\n",
    "preds = bst.predict(dtest)\n",
    "predictions = preds.argmax(axis=1)\n",
    "\n",
    "# Decode the predictions\n",
    "decoded_predictions = label_encoder.inverse_transform(predictions)\n",
    "\n",
    "# Evaluate the model\n",
    "print(classification_report(y_test, decoded_predictions))\n",
    "print(\"Accuracy:\", accuracy_score(y_test, decoded_predictions))"
   ]
  },
  {
   "cell_type": "code",
   "execution_count": 303,
   "id": "0a185378",
   "metadata": {},
   "outputs": [],
   "source": [
    "param_grid = {\n",
    "    'max_depth': [4, 6, 8],\n",
    "    'min_child_weight': [1, 5, 10],\n",
    "    'subsample': [0.5, 0.7, 1.0],\n",
    "    'colsample_bytree': [0.5, 0.7, 1.0],\n",
    "    'n_estimators': [100, 200, 300],\n",
    "    'learning_rate': [0.01, 0.1, 0.2]\n",
    "}"
   ]
  },
  {
   "cell_type": "code",
   "execution_count": 308,
   "id": "6ab258df",
   "metadata": {},
   "outputs": [],
   "source": [
    "# Save the model to a file\n",
    "bst.save_model('D:/s9/NLP/project2_app/NLP_project2_app/xgboost_model.json')"
   ]
  },
  {
   "cell_type": "code",
   "execution_count": 309,
   "id": "45b05883",
   "metadata": {},
   "outputs": [],
   "source": [
    "#loaded_bst = xgb.Booster()\n",
    "#loaded_bst.load_model('xgboost_model.json')"
   ]
  },
  {
   "cell_type": "code",
   "execution_count": null,
   "id": "64b048d1",
   "metadata": {},
   "outputs": [],
   "source": [
    "best_params = grid_search.best_params_\n",
    "print(\"Best parameters:\", best_params)"
   ]
  },
  {
   "cell_type": "markdown",
   "id": "cf1f488a",
   "metadata": {},
   "source": [
    "We tried to fit an optimal xgboost but it took too much time"
   ]
  },
  {
   "cell_type": "markdown",
   "id": "0e8875bb",
   "metadata": {},
   "source": [
    "#### The model performs slightly better than random forest but still struggles to predict negative and neutral classes"
   ]
  },
  {
   "cell_type": "markdown",
   "id": "470ddb02",
   "metadata": {},
   "source": [
    "### We can identify here a clear limit of both our model : \n",
    "### The training data has a vast majority of positive reviews, so the models struggle with negative reviews"
   ]
  },
  {
   "cell_type": "markdown",
   "id": "82eaf2ee",
   "metadata": {},
   "source": [
    "## Homogenization of training data reviews ratings"
   ]
  },
  {
   "cell_type": "markdown",
   "id": "74d10834",
   "metadata": {},
   "source": [
    "ratings are integers from 0 to 5 (inclusive), we select 10 000 reviews of each rating"
   ]
  },
  {
   "cell_type": "code",
   "execution_count": 361,
   "id": "21859e04",
   "metadata": {},
   "outputs": [],
   "source": [
    "sub_df = df.groupby('rating').apply(lambda x: x.sample(n=10000)).reset_index(drop=True)\n",
    "# sub_df now contains 10000 reviews for each rating"
   ]
  },
  {
   "cell_type": "code",
   "execution_count": 443,
   "id": "af74493f",
   "metadata": {},
   "outputs": [
    {
     "data": {
      "text/plain": [
       "(60000, 14)"
      ]
     },
     "execution_count": 443,
     "metadata": {},
     "output_type": "execute_result"
    }
   ],
   "source": [
    "sub_df.shape"
   ]
  },
  {
   "cell_type": "code",
   "execution_count": 444,
   "id": "fc664244",
   "metadata": {},
   "outputs": [
    {
     "name": "stdout",
     "output_type": "stream",
     "text": [
      "   Count  Percentage\n",
      "0  10000   16.666667\n",
      "1  10000   16.666667\n",
      "2  10000   16.666667\n",
      "3  10000   16.666667\n",
      "4  10000   16.666667\n",
      "5  10000   16.666667\n"
     ]
    }
   ],
   "source": [
    "rating_counts = sub_df['rating'].value_counts()\n",
    "rating_percentages = sub_df['rating'].value_counts(normalize=True) * 100  # Convert to percentage\n",
    "\n",
    "# Combine counts and percentages into a single DataFrame\n",
    "rating_summary = pd.DataFrame({'Count': rating_counts, 'Percentage': rating_percentages})\n",
    "\n",
    "print(rating_summary)"
   ]
  },
  {
   "cell_type": "markdown",
   "id": "f4b4856b",
   "metadata": {},
   "source": [
    "### Repeating all the steps, preprocessing the reviews, associating rating to a sentiment for classification"
   ]
  },
  {
   "cell_type": "code",
   "execution_count": 363,
   "id": "9a49ec43",
   "metadata": {},
   "outputs": [
    {
     "name": "stderr",
     "output_type": "stream",
     "text": [
      "Cleaning and Correcting summaries: 100%|███████████████████████████████████████| 60000/60000 [00:07<00:00, 8488.50it/s]\n"
     ]
    }
   ],
   "source": [
    "sub_df['review_clean'] = sub_df['review_text'].progress_apply(clean_text)"
   ]
  },
  {
   "cell_type": "code",
   "execution_count": 364,
   "id": "d093beb8",
   "metadata": {},
   "outputs": [],
   "source": [
    "sub_df['sentiment'] = sub_df['rating'].apply(assign_sentiment)"
   ]
  },
  {
   "cell_type": "markdown",
   "id": "f5c2de98",
   "metadata": {},
   "source": [
    "#### Fitting an optimal random forest model for classification"
   ]
  },
  {
   "cell_type": "code",
   "execution_count": 445,
   "id": "3ea726f7",
   "metadata": {},
   "outputs": [],
   "source": [
    "X = sub_df['review_clean']\n",
    "y = sub_df['sentiment']\n",
    "\n",
    "X_train, X_test, y_train, y_test = train_test_split(X, y, test_size=0.2, random_state=42)\n",
    "\n",
    "vectorizer = TfidfVectorizer(stop_words='english', max_features=10000)\n",
    "X_train_tfidf = vectorizer.fit_transform(X_train)\n",
    "X_test_tfidf = vectorizer.transform(X_test)"
   ]
  },
  {
   "cell_type": "code",
   "execution_count": 366,
   "id": "0fd89a69",
   "metadata": {},
   "outputs": [],
   "source": [
    "param_grid = {\n",
    "    'n_estimators': [100, 200, 300],\n",
    "    'max_depth': [10, 20, 30, None],\n",
    "    'min_samples_split': [2, 5, 10],\n",
    "    'min_samples_leaf': [1, 2, 4]\n",
    "}"
   ]
  },
  {
   "cell_type": "code",
   "execution_count": 367,
   "id": "c65f868a",
   "metadata": {
    "scrolled": true
   },
   "outputs": [
    {
     "name": "stdout",
     "output_type": "stream",
     "text": [
      "Fitting 3 folds for each of 108 candidates, totalling 324 fits\n"
     ]
    },
    {
     "data": {
      "text/plain": [
       "GridSearchCV(cv=3, estimator=RandomForestClassifier(n_jobs=-1, random_state=42),\n",
       "             n_jobs=-1,\n",
       "             param_grid={'max_depth': [10, 20, 30, None],\n",
       "                         'min_samples_leaf': [1, 2, 4],\n",
       "                         'min_samples_split': [2, 5, 10],\n",
       "                         'n_estimators': [100, 200, 300]},\n",
       "             verbose=2)"
      ]
     },
     "execution_count": 367,
     "metadata": {},
     "output_type": "execute_result"
    }
   ],
   "source": [
    "rf = RandomForestClassifier(random_state=42, n_jobs=-1)\n",
    "grid_search = GridSearchCV(estimator=rf, param_grid=param_grid, cv=3, n_jobs=-1, verbose=2)\n",
    "\n",
    "grid_search.fit(X_train_tfidf, y_train)"
   ]
  },
  {
   "cell_type": "code",
   "execution_count": 368,
   "id": "03a9514d",
   "metadata": {},
   "outputs": [
    {
     "name": "stdout",
     "output_type": "stream",
     "text": [
      "Best parameters: {'max_depth': None, 'min_samples_leaf': 2, 'min_samples_split': 5, 'n_estimators': 300}\n"
     ]
    }
   ],
   "source": [
    "best_params = grid_search.best_params_\n",
    "print(\"Best parameters:\", best_params)"
   ]
  },
  {
   "cell_type": "code",
   "execution_count": 369,
   "id": "90aefe3f",
   "metadata": {},
   "outputs": [
    {
     "data": {
      "text/plain": [
       "RandomForestClassifier(min_samples_split=5, n_jobs=-1, random_state=42)"
      ]
     },
     "execution_count": 369,
     "metadata": {},
     "output_type": "execute_result"
    }
   ],
   "source": [
    "optimized_rf = RandomForestClassifier(\n",
    "    n_estimators=100,\n",
    "    max_depth=None,\n",
    "    min_samples_leaf=1,\n",
    "    min_samples_split=5,\n",
    "    random_state=42,\n",
    "    n_jobs=-1\n",
    ")\n",
    "\n",
    "optimized_rf.fit(X_train_tfidf, y_train)"
   ]
  },
  {
   "cell_type": "code",
   "execution_count": 446,
   "id": "7518bbbd",
   "metadata": {},
   "outputs": [
    {
     "name": "stdout",
     "output_type": "stream",
     "text": [
      "              precision    recall  f1-score   support\n",
      "\n",
      "    negative       0.66      0.89      0.76      5909\n",
      "     neutral       0.45      0.01      0.03      2068\n",
      "    positive       0.66      0.67      0.67      4023\n",
      "\n",
      "    accuracy                           0.66     12000\n",
      "   macro avg       0.59      0.52      0.48     12000\n",
      "weighted avg       0.63      0.66      0.60     12000\n",
      "\n",
      "Accuracy: 0.6630833333333334\n"
     ]
    }
   ],
   "source": [
    "y_pred = optimized_rf.predict(X_test_tfidf)\n",
    "print(classification_report(y_test, y_pred))\n",
    "print(\"Accuracy:\", accuracy_score(y_test, y_pred))"
   ]
  },
  {
   "cell_type": "markdown",
   "id": "f37c6472",
   "metadata": {},
   "source": [
    "### We could think 0.66 is worse than 0.75 (previous model accuracy), but the score before was biased by the positive accuracy being enormous. Here, in comparison, we have much better f1 scores and recall and the prediction for negatives are much higher. The model still struggles with neutral reviews, but overall, the model has improved !"
   ]
  },
  {
   "cell_type": "code",
   "execution_count": 442,
   "id": "4995458b",
   "metadata": {
    "scrolled": false
   },
   "outputs": [
    {
     "data": {
      "text/plain": [
       "['D:/s9/NLP/NLP_repository/balanced_tfidf_vectorizer.joblib']"
      ]
     },
     "execution_count": 442,
     "metadata": {},
     "output_type": "execute_result"
    }
   ],
   "source": [
    "#joblib.dump(optimized_rf, 'D:/s9/NLP/NLP_repository/balanced_optimized_rf_model.joblib')\n",
    "#joblib.dump(vectorizer, 'D:/s9/NLP/NLP_repository/balanced_tfidf_vectorizer.joblib')"
   ]
  },
  {
   "cell_type": "markdown",
   "id": "d67eadff",
   "metadata": {},
   "source": [
    "#### trying to predict review rating in addition to sentiment"
   ]
  },
  {
   "cell_type": "code",
   "execution_count": 422,
   "id": "4871e520",
   "metadata": {},
   "outputs": [],
   "source": [
    "X = sub_df['review_clean']\n",
    "y_rating = sub_df['rating']\n",
    "    \n",
    "X_train_rating, X_test_rating, y_train_rating, y_test_rating = train_test_split(X, y_rating, test_size=0.2, random_state=42)\n",
    "\n",
    "vectorizer = TfidfVectorizer(stop_words='english', max_features=10000)\n",
    "X_train_rating_tfidf = vectorizer.fit_transform(X_train_rating)\n",
    "X_test_rating_tfidf = vectorizer.transform(X_test_rating)"
   ]
  },
  {
   "cell_type": "code",
   "execution_count": 428,
   "id": "0f1f00de",
   "metadata": {},
   "outputs": [
    {
     "data": {
      "text/plain": [
       "0    read half enjoying skipped read last chapter k...\n",
       "Name: review_clean, dtype: object"
      ]
     },
     "execution_count": 428,
     "metadata": {},
     "output_type": "execute_result"
    }
   ],
   "source": [
    "sub_df['review_clean'].head(1)"
   ]
  },
  {
   "cell_type": "code",
   "execution_count": 424,
   "id": "489e3fbf",
   "metadata": {},
   "outputs": [
    {
     "data": {
      "text/plain": [
       "RandomForestRegressor(random_state=42)"
      ]
     },
     "execution_count": 424,
     "metadata": {},
     "output_type": "execute_result"
    }
   ],
   "source": [
    "from sklearn.ensemble import RandomForestRegressor\n",
    "regressor = RandomForestRegressor(random_state=42)\n",
    "regressor.fit(X_train_rating_tfidf, y_train_rating)"
   ]
  },
  {
   "cell_type": "code",
   "execution_count": 425,
   "id": "fea10226",
   "metadata": {},
   "outputs": [
    {
     "name": "stdout",
     "output_type": "stream",
     "text": [
      "Mean Squared Error: 2.063096038933473\n",
      "Mean Absolute Error: 1.1104914496409541\n"
     ]
    }
   ],
   "source": [
    "from sklearn.metrics import mean_squared_error, mean_absolute_error\n",
    "\n",
    "y_pred_rating = regressor.predict(X_test_rating_tfidf)\n",
    "\n",
    "mse = mean_squared_error(y_test_rating, y_pred_rating)\n",
    "mae = mean_absolute_error(y_test_rating, y_pred_rating)\n",
    "\n",
    "print(f\"Mean Squared Error: {mse}\")\n",
    "print(f\"Mean Absolute Error: {mae}\")"
   ]
  },
  {
   "cell_type": "code",
   "execution_count": 448,
   "id": "b479179d",
   "metadata": {},
   "outputs": [
    {
     "name": "stdout",
     "output_type": "stream",
     "text": [
      "Accuracy (Exact Match): 29.85%\n",
      "Mean Squared Error: 2.06\n",
      "Mean Absolute Error: 1.11\n"
     ]
    }
   ],
   "source": [
    "y_pred_rounded = np.round(y_pred_rating)\n",
    "\n",
    "# Calculate accuracy\n",
    "accuracy = accuracy_score(y_test_rating, y_pred_rounded)\n",
    "print(f\"Accuracy (Exact Match): {accuracy * 100:.2f}%\")\n",
    "\n",
    "# You already have MSE and MAE calculated\n",
    "mse = mean_squared_error(y_test_rating, y_pred_rating)\n",
    "mae = mean_absolute_error(y_test_rating, y_pred_rating)\n",
    "print(f\"Mean Squared Error: {mse:.2f}\")\n",
    "print(f\"Mean Absolute Error: {mae:.2f}\")"
   ]
  },
  {
   "cell_type": "markdown",
   "id": "1410e065",
   "metadata": {},
   "source": [
    "#### Not great, the problem is that the correlation between the review and the rating is sometimes not exact, since some users will write a negative comment but rate the book a 3, or sometimes they will talk about negative stuff for 4 lines and still say its a great book. We could try to ameliorate the model with more reviews, or a more exact classification"
   ]
  },
  {
   "cell_type": "markdown",
   "id": "fd07760b",
   "metadata": {},
   "source": [
    "## Grouping the data by book and scraping aditionnal information"
   ]
  },
  {
   "cell_type": "code",
   "execution_count": 449,
   "id": "aa194526",
   "metadata": {},
   "outputs": [],
   "source": [
    "# Function to scrap a book's name and summary by its book_id contained in the original dataset\n",
    "def get_book_name_and_summary(book_id):\n",
    "    url = f'https://www.goodreads.com/book/show/{book_id}'\n",
    "    response = requests.get(url)\n",
    "    soup = BeautifulSoup(response.content, 'html.parser')\n",
    "\n",
    "    # Find the element containing the book's name\n",
    "    title_element = soup.find('h1', {'class': 'Text Text__title1', 'data-testid': 'bookTitle'})\n",
    "    if not title_element:\n",
    "        return 'Title not found', None\n",
    "\n",
    "    book_name = title_element.text.strip()\n",
    "\n",
    "    # Find the element containing the book's summary\n",
    "    summary_element = soup.find('span', {'class': 'Formatted'})\n",
    "    if summary_element:\n",
    "        return book_name, summary_element\n",
    "    else:\n",
    "        return book_name, 'Summary not found'"
   ]
  },
  {
   "cell_type": "markdown",
   "id": "8c5dc693",
   "metadata": {},
   "source": [
    "The rating becomes the average rating for the 50 reviews, the sentiment is the sum of the sentiments of the 50 reviews, we also add the summary and get the book name for that book_id. The data is scraped on Goodreads : https://www.goodreads.com/"
   ]
  },
  {
   "cell_type": "code",
   "execution_count": 23,
   "id": "cff5d740",
   "metadata": {
    "scrolled": false
   },
   "outputs": [
    {
     "name": "stderr",
     "output_type": "stream",
     "text": [
      "100%|██████████████████████████████████████████████████████████████████████████████| 1000/1000 [40:15<00:00,  2.42s/it]\n"
     ]
    }
   ],
   "source": [
    "# Initialize tqdm for progress tracking\n",
    "tqdm.pandas()\n",
    "\n",
    "# Group by book_id\n",
    "grouped_reviews = sampled_reviews.groupby('book_id')\n",
    "\n",
    "# Calculate average_rating for each group\n",
    "average_rating = grouped_reviews['rating'].mean()\n",
    "\n",
    "# Calculate review_sentiment as the sum of predicted sentiment scores\n",
    "review_sentiment = grouped_reviews['review_sentiment'].sum()\n",
    "\n",
    "# Get book names and summaries using the provided function with tqdm\n",
    "book_info = grouped_reviews.progress_apply(lambda x: get_book_name_and_summary(x['book_id'].iloc[0]))\n",
    "\n",
    "# Create a DataFrame with the results\n",
    "book_df = pd.DataFrame({\n",
    "    'book_name': book_info.apply(lambda x: x[0]),\n",
    "    'book_summary': book_info.apply(lambda x: x[1]),\n",
    "    'average_rating': average_rating,\n",
    "    'review_sentiment': review_sentiment\n",
    "})\n",
    "\n",
    "# Rename the columns and set the book_name as the index\n",
    "book_df = book_df.rename(columns={'book_id': 'book_name'})"
   ]
  },
  {
   "cell_type": "code",
   "execution_count": 33,
   "id": "2e776e18",
   "metadata": {},
   "outputs": [
    {
     "name": "stdout",
     "output_type": "stream",
     "text": [
      "Number of missing summaries: 3\n"
     ]
    }
   ],
   "source": [
    "missing_summary_count = book_df['book_summary'].isna().sum()\n",
    "print(f\"Number of missing summaries: {missing_summary_count}\")"
   ]
  },
  {
   "cell_type": "markdown",
   "id": "254d9260",
   "metadata": {},
   "source": [
    "We will drop books with no summary"
   ]
  },
  {
   "cell_type": "code",
   "execution_count": 38,
   "id": "fd9a83b9",
   "metadata": {},
   "outputs": [],
   "source": [
    "book_df = book_df.dropna(subset=['book_summary'])"
   ]
  },
  {
   "cell_type": "code",
   "execution_count": 39,
   "id": "5495bbbd",
   "metadata": {
    "scrolled": true
   },
   "outputs": [
    {
     "data": {
      "text/plain": [
       "(997, 4)"
      ]
     },
     "execution_count": 39,
     "metadata": {},
     "output_type": "execute_result"
    }
   ],
   "source": [
    "book_df.shape"
   ]
  },
  {
   "cell_type": "markdown",
   "id": "ed6234a9",
   "metadata": {},
   "source": [
    "Saving the dataframe"
   ]
  },
  {
   "cell_type": "code",
   "execution_count": 55,
   "id": "6edb1dc3",
   "metadata": {},
   "outputs": [],
   "source": [
    "#file_path = 'D:/s9/NLP/projet3/goodreads_reviews/1000_best_books_summary.csv'\n",
    "\n",
    "# Save the DataFrame to a CSV file\n",
    "#book_df.to_csv(file_path, index=False)"
   ]
  },
  {
   "cell_type": "code",
   "execution_count": 124,
   "id": "8896eb92",
   "metadata": {},
   "outputs": [],
   "source": [
    "book_df = pd.read_csv(\"D:/s9/NLP/projet3/goodreads_reviews/1000_best_books_summary.csv\")"
   ]
  },
  {
   "cell_type": "code",
   "execution_count": 29,
   "id": "ac809b25",
   "metadata": {
    "scrolled": true
   },
   "outputs": [
    {
     "data": {
      "text/plain": [
       "<span class=\"Formatted\">It is the middle of the summer, but there is an unseasonal mist pressing against the windowpanes. Harry Potter is waiting nervously in his bedroom at the Dursleys' house in Privet Drive for a visit from Professor Dumbledore himself. One of the last times he saw the Headmaster, he was in a fierce one-to-one duel with Lord Voldemort, and Harry can't quite believe that Professor Dumbledore will actually appear at the Dursleys' of all places. Why is the Professor coming to visit him now? What is it that cannot wait until Harry returns to Hogwarts in a few weeks' time? Harry's sixth year at Hogwarts has already got off to an unusual start, as the worlds of Muggle and magic start to intertwine...</span>"
      ]
     },
     "execution_count": 29,
     "metadata": {},
     "output_type": "execute_result"
    }
   ],
   "source": [
    "book_df['book_summary'].iloc[0]"
   ]
  },
  {
   "cell_type": "markdown",
   "id": "081b0a99",
   "metadata": {},
   "source": [
    "The scraped summaries are still messy, let's remove the html tags :"
   ]
  },
  {
   "cell_type": "code",
   "execution_count": 43,
   "id": "3a9cd21f",
   "metadata": {},
   "outputs": [],
   "source": [
    "def clean_summary(summary):\n",
    "    # Parse the HTML using BeautifulSoup\n",
    "    soup = BeautifulSoup(summary, 'html.parser')\n",
    "    \n",
    "    # Extract the text content without HTML tags\n",
    "    cleaned_text = soup.get_text()\n",
    "    \n",
    "    # Remove extra whitespaces and newline characters\n",
    "    cleaned_text = ' '.join(cleaned_text.split())\n",
    "\n",
    "    return cleaned_text\n",
    "\n",
    "# Apply the clean_summary function to the 'book_summary' column\n",
    "book_df['cleaned_summary'] = book_df['book_summary'].apply(clean_summary)"
   ]
  },
  {
   "cell_type": "code",
   "execution_count": 126,
   "id": "160909e2",
   "metadata": {},
   "outputs": [
    {
     "data": {
      "text/plain": [
       "\"It is the middle of the summer, but there is an unseasonal mist pressing against the windowpanes. Harry Potter is waiting nervously in his bedroom at the Dursleys' house in Privet Drive for a visit from Professor Dumbledore himself. One of the last times he saw the Headmaster, he was in a fierce one-to-one duel with Lord Voldemort, and Harry can't quite believe that Professor Dumbledore will actually appear at the Dursleys' of all places. Why is the Professor coming to visit him now? What is it that cannot wait until Harry returns to Hogwarts in a few weeks' time? Harry's sixth year at Hogwarts has already got off to an unusual start, as the worlds of Muggle and magic start to intertwine...\""
      ]
     },
     "execution_count": 126,
     "metadata": {},
     "output_type": "execute_result"
    }
   ],
   "source": [
    "book_df['cleaned_summary'].iloc[0]"
   ]
  },
  {
   "cell_type": "markdown",
   "id": "a454b4db",
   "metadata": {},
   "source": [
    "Looks good !"
   ]
  },
  {
   "cell_type": "code",
   "execution_count": 48,
   "id": "cba53716",
   "metadata": {},
   "outputs": [],
   "source": [
    "book_df = book_df.drop('book_summary', axis=1)"
   ]
  },
  {
   "cell_type": "code",
   "execution_count": 127,
   "id": "1662d3e0",
   "metadata": {
    "scrolled": true
   },
   "outputs": [
    {
     "data": {
      "text/html": [
       "<div>\n",
       "<style scoped>\n",
       "    .dataframe tbody tr th:only-of-type {\n",
       "        vertical-align: middle;\n",
       "    }\n",
       "\n",
       "    .dataframe tbody tr th {\n",
       "        vertical-align: top;\n",
       "    }\n",
       "\n",
       "    .dataframe thead th {\n",
       "        text-align: right;\n",
       "    }\n",
       "</style>\n",
       "<table border=\"1\" class=\"dataframe\">\n",
       "  <thead>\n",
       "    <tr style=\"text-align: right;\">\n",
       "      <th></th>\n",
       "      <th>book_name</th>\n",
       "      <th>average_rating</th>\n",
       "      <th>review_sentiment</th>\n",
       "      <th>cleaned_summary</th>\n",
       "    </tr>\n",
       "  </thead>\n",
       "  <tbody>\n",
       "    <tr>\n",
       "      <th>0</th>\n",
       "      <td>Harry Potter and the Half-Blood Prince</td>\n",
       "      <td>4.58</td>\n",
       "      <td>9.368922</td>\n",
       "      <td>It is the middle of the summer, but there is a...</td>\n",
       "    </tr>\n",
       "  </tbody>\n",
       "</table>\n",
       "</div>"
      ],
      "text/plain": [
       "                                book_name  average_rating  review_sentiment  \\\n",
       "0  Harry Potter and the Half-Blood Prince            4.58          9.368922   \n",
       "\n",
       "                                     cleaned_summary  \n",
       "0  It is the middle of the summer, but there is a...  "
      ]
     },
     "execution_count": 127,
     "metadata": {},
     "output_type": "execute_result"
    }
   ],
   "source": [
    "book_df.head(1)"
   ]
  },
  {
   "cell_type": "markdown",
   "id": "8d80d7a6",
   "metadata": {},
   "source": [
    "## Word2Vec to identify similar words"
   ]
  },
  {
   "cell_type": "markdown",
   "id": "9dfb28d6",
   "metadata": {},
   "source": [
    "#### Preprocessing for word2vec model on the top 1000 book summaries"
   ]
  },
  {
   "cell_type": "code",
   "execution_count": 411,
   "id": "71bed2ee",
   "metadata": {},
   "outputs": [
    {
     "name": "stderr",
     "output_type": "stream",
     "text": [
      "Cleaning and Correcting summaries: 100%|██████████████████████████████████████████| 997/997 [00:00<00:00, 11329.45it/s]\n"
     ]
    }
   ],
   "source": [
    "book_df['book_summary_cleaned_pour_de_vrai'] = book_df['cleaned_summary'].progress_apply(clean_text)"
   ]
  },
  {
   "cell_type": "code",
   "execution_count": 412,
   "id": "b271c836",
   "metadata": {
    "scrolled": true
   },
   "outputs": [
    {
     "name": "stdout",
     "output_type": "stream",
     "text": [
      "0      middle summer unseasonal mist pressing windowp...\n",
      "1      harry potter start fifth year hogwarts school ...\n",
      "2      harry potter idea famous raised miserable aunt...\n",
      "3      harry potter along best friends ron hermione s...\n",
      "4      summer holidays soon harry potter starting fou...\n",
      "                             ...                        \n",
      "992    kate harker afraid monsters hunts good august ...\n",
      "993    alternate cover edition isbn found sixteen yea...\n",
      "994    alternate cover edition asin b j u one us lyin...\n",
      "995    probably found way page follow reviews goodrea...\n",
      "996    lara jean best senior year still much look for...\n",
      "Name: book_summary_cleaned_pour_de_vrai, Length: 997, dtype: object\n"
     ]
    }
   ],
   "source": [
    "print(book_df['book_summary_cleaned_pour_de_vrai'])"
   ]
  },
  {
   "cell_type": "code",
   "execution_count": 413,
   "id": "6a3d1b55",
   "metadata": {},
   "outputs": [],
   "source": [
    "# Train the Word2Vec model\n",
    "word2vec_model = Word2Vec(sentences=book_df['book_summary_cleaned_pour_de_vrai'], vector_size=100, window=5, min_count=1, workers=4)"
   ]
  },
  {
   "cell_type": "code",
   "execution_count": 405,
   "id": "246f3be4",
   "metadata": {},
   "outputs": [],
   "source": [
    "# Saving\n",
    "#word2vec_model.save(\"D:/s9/NLP/fresh_repo/word2vec_model.model\")"
   ]
  },
  {
   "cell_type": "markdown",
   "id": "29b1152d",
   "metadata": {},
   "source": [
    "### Displaying the word embeddings in 2 dimensions with TNSE and K-means for clustering"
   ]
  },
  {
   "cell_type": "code",
   "execution_count": 318,
   "id": "aec0836c",
   "metadata": {
    "scrolled": false
   },
   "outputs": [
    {
     "name": "stdout",
     "output_type": "stream",
     "text": [
      "[t-SNE] Computing 91 nearest neighbors...\n",
      "[t-SNE] Indexed 19430 samples in 0.000s...\n",
      "[t-SNE] Computed neighbors for 19430 samples in 11.803s...\n",
      "[t-SNE] Computed conditional probabilities for sample 1000 / 19430\n",
      "[t-SNE] Computed conditional probabilities for sample 2000 / 19430\n",
      "[t-SNE] Computed conditional probabilities for sample 3000 / 19430\n",
      "[t-SNE] Computed conditional probabilities for sample 4000 / 19430\n",
      "[t-SNE] Computed conditional probabilities for sample 5000 / 19430\n",
      "[t-SNE] Computed conditional probabilities for sample 6000 / 19430\n",
      "[t-SNE] Computed conditional probabilities for sample 7000 / 19430\n",
      "[t-SNE] Computed conditional probabilities for sample 8000 / 19430\n",
      "[t-SNE] Computed conditional probabilities for sample 9000 / 19430\n",
      "[t-SNE] Computed conditional probabilities for sample 10000 / 19430\n",
      "[t-SNE] Computed conditional probabilities for sample 11000 / 19430\n",
      "[t-SNE] Computed conditional probabilities for sample 12000 / 19430\n",
      "[t-SNE] Computed conditional probabilities for sample 13000 / 19430\n",
      "[t-SNE] Computed conditional probabilities for sample 14000 / 19430\n",
      "[t-SNE] Computed conditional probabilities for sample 15000 / 19430\n",
      "[t-SNE] Computed conditional probabilities for sample 16000 / 19430\n",
      "[t-SNE] Computed conditional probabilities for sample 17000 / 19430\n",
      "[t-SNE] Computed conditional probabilities for sample 18000 / 19430\n",
      "[t-SNE] Computed conditional probabilities for sample 19000 / 19430\n",
      "[t-SNE] Computed conditional probabilities for sample 19430 / 19430\n",
      "[t-SNE] Mean sigma: 0.015602\n",
      "[t-SNE] KL divergence after 250 iterations with early exaggeration: 92.886513\n",
      "[t-SNE] KL divergence after 1000 iterations: 3.488513\n"
     ]
    },
    {
     "name": "stderr",
     "output_type": "stream",
     "text": [
      "C:\\Users\\timot\\AppData\\Local\\Temp/ipykernel_15668/109073718.py:25: MatplotlibDeprecationWarning: The get_cmap function was deprecated in Matplotlib 3.7 and will be removed two minor releases later. Use ``matplotlib.colormaps[name]`` or ``matplotlib.colormaps.get_cmap(obj)`` instead.\n",
      "  colors = plt.cm.get_cmap('tab10', num_clusters)\n"
     ]
    },
    {
     "data": {
      "image/png": "[encoded data removed]",
      "text/plain": [
       "<Figure size 864x720 with 1 Axes>"
      ]
     },
     "metadata": {
      "needs_background": "light"
     },
     "output_type": "display_data"
    }
   ],
   "source": [
    "words = np.random.choice(list(word2vec_model.wv.index_to_key), len(list(word2vec_model.wv.index_to_key)), replace=False)  # Sample 300 words\n",
    "word_vectors = np.array([word2vec_model.wv[word] for word in words])\n",
    "\n",
    "# Perform K-Means clustering\n",
    "num_clusters = 4\n",
    "kmeans = KMeans(n_clusters=num_clusters)\n",
    "kmeans.fit(word_vectors)\n",
    "cluster_labels = kmeans.labels_\n",
    "\n",
    "# Set up t-SNE\n",
    "tsne = TSNE(n_components=2, verbose=1, random_state=23)\n",
    "word_vectors_2d = tsne.fit_transform(word_vectors)\n",
    "\n",
    "# Create a scatter plot of the t-SNE reduced word vectors, colored by cluster assignment\n",
    "plt.figure(figsize=(12, 10))\n",
    "\n",
    "# Generate a color map for the clusters\n",
    "colors = plt.cm.get_cmap('tab10', num_clusters)\n",
    "\n",
    "for i in range(num_clusters):\n",
    "    # Select only data points that belong to the current cluster\n",
    "    indices = [index for index, label in enumerate(cluster_labels) if label == i]\n",
    "    current_cluster_vectors_2d = word_vectors_2d[indices]\n",
    "\n",
    "    # Scatter plot for each cluster\n",
    "    plt.scatter(current_cluster_vectors_2d[:, 0], current_cluster_vectors_2d[:, 1], c=[colors(i)], label=f'Cluster {i}')\n",
    "\n",
    "plt.title('Word2Vec Embeddings Visualized with t-SNE and Colored by K-Means Clusters')\n",
    "plt.xlabel('Component 1')\n",
    "plt.ylabel('Component 2')\n",
    "plt.legend() \n",
    "plt.show()\n"
   ]
  },
  {
   "cell_type": "markdown",
   "id": "a490867f",
   "metadata": {},
   "source": [
    "Saving and loading models if need later"
   ]
  },
  {
   "cell_type": "code",
   "execution_count": 322,
   "id": "eefd2060",
   "metadata": {},
   "outputs": [
    {
     "data": {
      "text/plain": [
       "['D:/s9/NLP/project2_app/NLP_project2_app/kmeans_model.joblib']"
      ]
     },
     "execution_count": 322,
     "metadata": {},
     "output_type": "execute_result"
    }
   ],
   "source": [
    "#joblib.dump(kmeans, 'D:/s9/NLP/project2_app/NLP_project2_app/kmeans_model.joblib')"
   ]
  },
  {
   "cell_type": "code",
   "execution_count": 323,
   "id": "6337eaad",
   "metadata": {},
   "outputs": [
    {
     "data": {
      "text/plain": [
       "['D:/s9/NLP/project2_app/NLP_project2_app/tsne_transformed_data.joblib']"
      ]
     },
     "execution_count": 323,
     "metadata": {},
     "output_type": "execute_result"
    }
   ],
   "source": [
    "#joblib.dump(word_vectors_2d, 'D:/s9/NLP/project2_app/NLP_project2_app/tsne_transformed_data.joblib')"
   ]
  },
  {
   "cell_type": "code",
   "execution_count": 325,
   "id": "86cebd53",
   "metadata": {},
   "outputs": [],
   "source": [
    "# Load Word2Vec Model\n",
    "#loaded_word2vec_model = Word2Vec.load(\"word2vec_model.model\")\n",
    "\n",
    "# Load KMeans Model\n",
    "#loaded_kmeans = joblib.load('kmeans_model.joblib')\n",
    "\n",
    "# Load t-SNE Transformed Data\n",
    "#loaded_word_vectors_2d = joblib.load('tsne_transformed_data.joblib')"
   ]
  },
  {
   "cell_type": "markdown",
   "id": "4d86924d",
   "metadata": {},
   "source": [
    "#### Trying to put labels on the clusters"
   ]
  },
  {
   "cell_type": "code",
   "execution_count": 320,
   "id": "6f6de7dc",
   "metadata": {},
   "outputs": [],
   "source": [
    "# Mapping words to their cluster labels\n",
    "word_cluster_mapping = {word: cluster_labels[i] for i, word in enumerate(words)}"
   ]
  },
  {
   "cell_type": "code",
   "execution_count": 455,
   "id": "ba0fd3d0",
   "metadata": {
    "scrolled": true
   },
   "outputs": [
    {
     "name": "stdout",
     "output_type": "stream",
     "text": [
      "\n",
      "Words in Cluster 0:\n",
      "Golds—and, crooked-smiling, outburst, wish, targets.Lada, Vega, Declan, Christy, fun.But, way…, another.From, Adeline, Bascom—or, Annabel, years.Using, charmed, 9,000, crude, Hillis, mud\n",
      "\n",
      "Words in Cluster 1:\n",
      "an, them, will, for, even, one, out, on, her, New, to, she, from, been, just, its, with, into, by, a\n",
      "\n",
      "Words in Cluster 2:\n",
      "quest, Little, surprising, thrilling, especially, gets, public, haunting, award-winning, sixteen-year-old, intense, England, siblings, competition, Clara, sex, tales, mind, training, quiet\n",
      "\n",
      "Words in Cluster 3:\n",
      "For, deadly, best, time, other, go, people, takes, What, tale, future, true, come, being, against, All, man, over, 're, left\n"
     ]
    }
   ],
   "source": [
    "for i in range(num_clusters):\n",
    "    print(f\"\\nWords in Cluster {i}:\")\n",
    "    cluster_words = [word for word, cluster in word_cluster_mapping.items() if cluster == i]\n",
    "    \n",
    "    sample_words = cluster_words[40:60] if len(cluster_words) > 20 else cluster_words\n",
    "    print(\", \".join(sample_words))"
   ]
  },
  {
   "cell_type": "markdown",
   "id": "9733cbf3",
   "metadata": {},
   "source": [
    "#### There doesn't seem to be a direct ling between the words in the clusters..."
   ]
  },
  {
   "cell_type": "markdown",
   "id": "522620a9",
   "metadata": {},
   "source": [
    "### Using Cosine similarity to do semantic search based on that trained model"
   ]
  },
  {
   "cell_type": "code",
   "execution_count": 132,
   "id": "70727078",
   "metadata": {},
   "outputs": [],
   "source": [
    "def semantic_search(model, search_term, top_n=5):\n",
    "    search_term_vector = model.wv[search_term]\n",
    "    similarities = []\n",
    "    for word in model.wv.index_to_key:\n",
    "        if word == search_term:\n",
    "            continue\n",
    "        word_vector = model.wv[word]\n",
    "        sim = cosine_similarity([search_term_vector], [word_vector])\n",
    "        similarities.append((word, sim[0][0]))\n",
    "\n",
    "    return sorted(similarities, key=lambda item: -item[1])[:top_n]"
   ]
  },
  {
   "cell_type": "code",
   "execution_count": 459,
   "id": "3829a952",
   "metadata": {},
   "outputs": [
    {
     "data": {
      "text/plain": [
       "[('life', 0.99993634),\n",
       " ('world', 0.99993455),\n",
       " ('one', 0.99993265),\n",
       " ('like', 0.9999214),\n",
       " ('even', 0.9999207),\n",
       " ('must', 0.999918),\n",
       " ('time', 0.9999178),\n",
       " ('night', 0.99991757),\n",
       " ('ever', 0.9999166),\n",
       " ('way', 0.99991614)]"
      ]
     },
     "execution_count": 459,
     "metadata": {},
     "output_type": "execute_result"
    }
   ],
   "source": [
    "semantic_search(word2vec_model, 'magic', top_n=10)"
   ]
  },
  {
   "cell_type": "markdown",
   "id": "ba46bd26",
   "metadata": {},
   "source": [
    "### The result isn't great, the similarities don't make sense (too high) and the words don't match"
   ]
  },
  {
   "cell_type": "markdown",
   "id": "bb5a6270",
   "metadata": {},
   "source": [
    "### Let's try to train the model on the 60000 reviews instead "
   ]
  },
  {
   "cell_type": "markdown",
   "id": "54ae667b",
   "metadata": {},
   "source": [
    "Using the homogenized dataframe with 60 000 reviews : "
   ]
  },
  {
   "cell_type": "markdown",
   "id": "3c33baef",
   "metadata": {},
   "source": [
    "Preprocessing :"
   ]
  },
  {
   "cell_type": "code",
   "execution_count": 396,
   "id": "d38b86d8",
   "metadata": {
    "scrolled": true
   },
   "outputs": [
    {
     "name": "stderr",
     "output_type": "stream",
     "text": [
      "Cleaning and Correcting summaries: 100%|███████████████████████████████████████| 60000/60000 [00:11<00:00, 5254.91it/s]\n"
     ]
    }
   ],
   "source": [
    "sub_df['clean_sum'] = sub_df['review_text'].progress_apply(text_cleaner)"
   ]
  },
  {
   "cell_type": "markdown",
   "id": "c91042f7",
   "metadata": {},
   "source": [
    "#### Training the model"
   ]
  },
  {
   "cell_type": "code",
   "execution_count": 397,
   "id": "71a4170e",
   "metadata": {},
   "outputs": [],
   "source": [
    "sub_df_word2vec = Word2Vec(sentences=sub_df['clean_sum'], vector_size=300, window=5, min_count=1, workers=4)"
   ]
  },
  {
   "cell_type": "markdown",
   "id": "e78e2b78",
   "metadata": {},
   "source": [
    "#### Testing the same way as the previous model :"
   ]
  },
  {
   "cell_type": "code",
   "execution_count": 458,
   "id": "fa3cd521",
   "metadata": {
    "scrolled": true
   },
   "outputs": [
    {
     "data": {
      "text/plain": [
       "[('magical', 0.68489754),\n",
       " ('system', 0.648915),\n",
       " ('realm', 0.64132607),\n",
       " ('dragons', 0.6411372),\n",
       " ('mechanics', 0.6234622),\n",
       " ('powers', 0.61316025),\n",
       " ('abilities', 0.6049566),\n",
       " ('fae', 0.5989472),\n",
       " ('supernatural', 0.5872007),\n",
       " ('technology', 0.5846641)]"
      ]
     },
     "execution_count": 458,
     "metadata": {},
     "output_type": "execute_result"
    }
   ],
   "source": [
    "semantic_search(sub_df_word2vec, 'magic', top_n=10)"
   ]
  },
  {
   "cell_type": "markdown",
   "id": "b5c3b3ce",
   "metadata": {},
   "source": [
    "#### Much better results !!! The similarities make sense and the the words too !"
   ]
  },
  {
   "cell_type": "code",
   "execution_count": 400,
   "id": "e84c8ce9",
   "metadata": {},
   "outputs": [],
   "source": [
    "#Saving the model for the streamlit app\n",
    "#sub_df_word2vec.save(\"D:/s9/NLP/NLP_repository/word2vec_finetuned.model\")"
   ]
  },
  {
   "cell_type": "markdown",
   "id": "619ef988",
   "metadata": {},
   "source": [
    "#### Displaying in 2 dimensions the embeddings again, using the same method :"
   ]
  },
  {
   "cell_type": "code",
   "execution_count": 409,
   "id": "2a8ccdbc",
   "metadata": {},
   "outputs": [
    {
     "name": "stdout",
     "output_type": "stream",
     "text": [
      "[t-SNE] Computing 91 nearest neighbors...\n",
      "[t-SNE] Indexed 80810 samples in 0.032s...\n",
      "[t-SNE] Computed neighbors for 80810 samples in 192.349s...\n",
      "[t-SNE] Computed conditional probabilities for sample 1000 / 80810\n",
      "[t-SNE] Computed conditional probabilities for sample 2000 / 80810\n",
      "[t-SNE] Computed conditional probabilities for sample 3000 / 80810\n",
      "[t-SNE] Computed conditional probabilities for sample 4000 / 80810\n",
      "[t-SNE] Computed conditional probabilities for sample 5000 / 80810\n",
      "[t-SNE] Computed conditional probabilities for sample 6000 / 80810\n",
      "[t-SNE] Computed conditional probabilities for sample 7000 / 80810\n",
      "[t-SNE] Computed conditional probabilities for sample 8000 / 80810\n",
      "[t-SNE] Computed conditional probabilities for sample 9000 / 80810\n",
      "[t-SNE] Computed conditional probabilities for sample 10000 / 80810\n",
      "[t-SNE] Computed conditional probabilities for sample 11000 / 80810\n",
      "[t-SNE] Computed conditional probabilities for sample 12000 / 80810\n",
      "[t-SNE] Computed conditional probabilities for sample 13000 / 80810\n",
      "[t-SNE] Computed conditional probabilities for sample 14000 / 80810\n",
      "[t-SNE] Computed conditional probabilities for sample 15000 / 80810\n",
      "[t-SNE] Computed conditional probabilities for sample 16000 / 80810\n",
      "[t-SNE] Computed conditional probabilities for sample 17000 / 80810\n",
      "[t-SNE] Computed conditional probabilities for sample 18000 / 80810\n",
      "[t-SNE] Computed conditional probabilities for sample 19000 / 80810\n",
      "[t-SNE] Computed conditional probabilities for sample 20000 / 80810\n",
      "[t-SNE] Computed conditional probabilities for sample 21000 / 80810\n",
      "[t-SNE] Computed conditional probabilities for sample 22000 / 80810\n",
      "[t-SNE] Computed conditional probabilities for sample 23000 / 80810\n",
      "[t-SNE] Computed conditional probabilities for sample 24000 / 80810\n",
      "[t-SNE] Computed conditional probabilities for sample 25000 / 80810\n",
      "[t-SNE] Computed conditional probabilities for sample 26000 / 80810\n",
      "[t-SNE] Computed conditional probabilities for sample 27000 / 80810\n",
      "[t-SNE] Computed conditional probabilities for sample 28000 / 80810\n",
      "[t-SNE] Computed conditional probabilities for sample 29000 / 80810\n",
      "[t-SNE] Computed conditional probabilities for sample 30000 / 80810\n",
      "[t-SNE] Computed conditional probabilities for sample 31000 / 80810\n",
      "[t-SNE] Computed conditional probabilities for sample 32000 / 80810\n",
      "[t-SNE] Computed conditional probabilities for sample 33000 / 80810\n",
      "[t-SNE] Computed conditional probabilities for sample 34000 / 80810\n",
      "[t-SNE] Computed conditional probabilities for sample 35000 / 80810\n",
      "[t-SNE] Computed conditional probabilities for sample 36000 / 80810\n",
      "[t-SNE] Computed conditional probabilities for sample 37000 / 80810\n",
      "[t-SNE] Computed conditional probabilities for sample 38000 / 80810\n",
      "[t-SNE] Computed conditional probabilities for sample 39000 / 80810\n",
      "[t-SNE] Computed conditional probabilities for sample 40000 / 80810\n",
      "[t-SNE] Computed conditional probabilities for sample 41000 / 80810\n",
      "[t-SNE] Computed conditional probabilities for sample 42000 / 80810\n",
      "[t-SNE] Computed conditional probabilities for sample 43000 / 80810\n",
      "[t-SNE] Computed conditional probabilities for sample 44000 / 80810\n",
      "[t-SNE] Computed conditional probabilities for sample 45000 / 80810\n",
      "[t-SNE] Computed conditional probabilities for sample 46000 / 80810\n",
      "[t-SNE] Computed conditional probabilities for sample 47000 / 80810\n",
      "[t-SNE] Computed conditional probabilities for sample 48000 / 80810\n",
      "[t-SNE] Computed conditional probabilities for sample 49000 / 80810\n",
      "[t-SNE] Computed conditional probabilities for sample 50000 / 80810\n",
      "[t-SNE] Computed conditional probabilities for sample 51000 / 80810\n",
      "[t-SNE] Computed conditional probabilities for sample 52000 / 80810\n",
      "[t-SNE] Computed conditional probabilities for sample 53000 / 80810\n",
      "[t-SNE] Computed conditional probabilities for sample 54000 / 80810\n",
      "[t-SNE] Computed conditional probabilities for sample 55000 / 80810\n",
      "[t-SNE] Computed conditional probabilities for sample 56000 / 80810\n",
      "[t-SNE] Computed conditional probabilities for sample 57000 / 80810\n",
      "[t-SNE] Computed conditional probabilities for sample 58000 / 80810\n",
      "[t-SNE] Computed conditional probabilities for sample 59000 / 80810\n",
      "[t-SNE] Computed conditional probabilities for sample 60000 / 80810\n",
      "[t-SNE] Computed conditional probabilities for sample 61000 / 80810\n",
      "[t-SNE] Computed conditional probabilities for sample 62000 / 80810\n",
      "[t-SNE] Computed conditional probabilities for sample 63000 / 80810\n",
      "[t-SNE] Computed conditional probabilities for sample 64000 / 80810\n",
      "[t-SNE] Computed conditional probabilities for sample 65000 / 80810\n",
      "[t-SNE] Computed conditional probabilities for sample 66000 / 80810\n",
      "[t-SNE] Computed conditional probabilities for sample 67000 / 80810\n",
      "[t-SNE] Computed conditional probabilities for sample 68000 / 80810\n",
      "[t-SNE] Computed conditional probabilities for sample 69000 / 80810\n",
      "[t-SNE] Computed conditional probabilities for sample 70000 / 80810\n",
      "[t-SNE] Computed conditional probabilities for sample 71000 / 80810\n",
      "[t-SNE] Computed conditional probabilities for sample 72000 / 80810\n",
      "[t-SNE] Computed conditional probabilities for sample 73000 / 80810\n",
      "[t-SNE] Computed conditional probabilities for sample 74000 / 80810\n",
      "[t-SNE] Computed conditional probabilities for sample 75000 / 80810\n",
      "[t-SNE] Computed conditional probabilities for sample 76000 / 80810\n",
      "[t-SNE] Computed conditional probabilities for sample 77000 / 80810\n",
      "[t-SNE] Computed conditional probabilities for sample 78000 / 80810\n",
      "[t-SNE] Computed conditional probabilities for sample 79000 / 80810\n",
      "[t-SNE] Computed conditional probabilities for sample 80000 / 80810\n",
      "[t-SNE] Computed conditional probabilities for sample 80810 / 80810\n",
      "[t-SNE] Mean sigma: 0.040359\n",
      "[t-SNE] KL divergence after 250 iterations with early exaggeration: 108.015472\n",
      "[t-SNE] KL divergence after 1000 iterations: 4.837416\n"
     ]
    },
    {
     "name": "stderr",
     "output_type": "stream",
     "text": [
      "C:\\Users\\timot\\AppData\\Local\\Temp/ipykernel_15668/3459758861.py:25: MatplotlibDeprecationWarning: The get_cmap function was deprecated in Matplotlib 3.7 and will be removed two minor releases later. Use ``matplotlib.colormaps[name]`` or ``matplotlib.colormaps.get_cmap(obj)`` instead.\n",
      "  colors = plt.cm.get_cmap('tab10', num_clusters)\n"
     ]
    },
    {
     "data": {
      "image/png": "[encoded data removed]",
      "text/plain": [
       "<Figure size 864x720 with 1 Axes>"
      ]
     },
     "metadata": {
      "needs_background": "light"
     },
     "output_type": "display_data"
    }
   ],
   "source": [
    "words = np.random.choice(list(sub_df_word2vec.wv.index_to_key), len(list(sub_df_word2vec.wv.index_to_key)), replace=False) \n",
    "word_vectors = np.array([sub_df_word2vec.wv[word] for word in words])\n",
    "\n",
    "# Perform K-Means clustering\n",
    "num_clusters = 4\n",
    "kmeans = KMeans(n_clusters=num_clusters)\n",
    "kmeans.fit(word_vectors)\n",
    "cluster_labels = kmeans.labels_\n",
    "\n",
    "# Set up t-SNE\n",
    "tsne = TSNE(n_components=2, verbose=1, random_state=23)\n",
    "word_vectors_2d = tsne.fit_transform(word_vectors)\n",
    "\n",
    "# Create a scatter plot of the t-SNE reduced word vectors, colored by cluster assignment\n",
    "plt.figure(figsize=(12, 10))\n",
    "\n",
    "# Generate a color map for the clusters\n",
    "colors = plt.cm.get_cmap('tab10', num_clusters)\n",
    "\n",
    "for i in range(num_clusters):\n",
    "    # Select only data points that belong to the current cluster\n",
    "    indices = [index for index, label in enumerate(cluster_labels) if label == i]\n",
    "    current_cluster_vectors_2d = word_vectors_2d[indices]\n",
    "\n",
    "    # Scatter plot for each cluster\n",
    "    plt.scatter(current_cluster_vectors_2d[:, 0], current_cluster_vectors_2d[:, 1], c=[colors(i)], label=f'Cluster {i}')\n",
    "\n",
    "plt.title('Word2Vec Embeddings Visualized with t-SNE and Colored by K-Means Clusters')\n",
    "plt.xlabel('Component 1')\n",
    "plt.ylabel('Component 2')\n",
    "plt.legend() \n",
    "plt.show()\n"
   ]
  },
  {
   "cell_type": "markdown",
   "id": "042e7833",
   "metadata": {},
   "source": [
    "#### Still hard to put a label on the clusters, but also better than the previous model it seems ! "
   ]
  },
  {
   "cell_type": "markdown",
   "id": "0aa71270",
   "metadata": {},
   "source": [
    "### Let's try to do some summarization for fun :"
   ]
  },
  {
   "cell_type": "markdown",
   "id": "9648f40d",
   "metadata": {},
   "source": [
    "### Summarization using BART pre-trained"
   ]
  },
  {
   "cell_type": "code",
   "execution_count": 140,
   "id": "0671404c",
   "metadata": {
    "scrolled": true
   },
   "outputs": [
    {
     "data": {
      "application/vnd.jupyter.widget-view+json": {
       "model_id": "ad4e987aa999493a82718ff5ca659f07",
       "version_major": 2,
       "version_minor": 0
      },
      "text/plain": [
       "vocab.json:   0%|          | 0.00/899k [00:00<?, ?B/s]"
      ]
     },
     "metadata": {},
     "output_type": "display_data"
    },
    {
     "name": "stderr",
     "output_type": "stream",
     "text": [
      "C:\\Users\\timot\\anaconda3\\lib\\site-packages\\huggingface_hub\\file_download.py:149: UserWarning: `huggingface_hub` cache-system uses symlinks by default to efficiently store duplicated files but your machine does not support them in C:\\Users\\timot\\.cache\\huggingface\\hub\\models--facebook--bart-large-cnn. Caching files will still work but in a degraded version that might require more space on your disk. This warning can be disabled by setting the `HF_HUB_DISABLE_SYMLINKS_WARNING` environment variable. For more details, see https://huggingface.co/docs/huggingface_hub/how-to-cache#limitations.\n",
      "To support symlinks on Windows, you either need to activate Developer Mode or to run Python as an administrator. In order to see activate developer mode, see this article: https://docs.microsoft.com/en-us/windows/apps/get-started/enable-your-device-for-development\n",
      "  warnings.warn(message)\n"
     ]
    },
    {
     "data": {
      "application/vnd.jupyter.widget-view+json": {
       "model_id": "e11890f974be45e88b9d502269822cd4",
       "version_major": 2,
       "version_minor": 0
      },
      "text/plain": [
       "merges.txt:   0%|          | 0.00/456k [00:00<?, ?B/s]"
      ]
     },
     "metadata": {},
     "output_type": "display_data"
    },
    {
     "data": {
      "application/vnd.jupyter.widget-view+json": {
       "model_id": "a991c31f1d854b3b849732989f9f0604",
       "version_major": 2,
       "version_minor": 0
      },
      "text/plain": [
       "tokenizer.json:   0%|          | 0.00/1.36M [00:00<?, ?B/s]"
      ]
     },
     "metadata": {},
     "output_type": "display_data"
    },
    {
     "data": {
      "application/vnd.jupyter.widget-view+json": {
       "model_id": "d744f00bfe0c40448b8992d02c6223af",
       "version_major": 2,
       "version_minor": 0
      },
      "text/plain": [
       "config.json:   0%|          | 0.00/1.58k [00:00<?, ?B/s]"
      ]
     },
     "metadata": {},
     "output_type": "display_data"
    },
    {
     "data": {
      "application/vnd.jupyter.widget-view+json": {
       "model_id": "8beb7c2a4f534623a6b7d6ed84128921",
       "version_major": 2,
       "version_minor": 0
      },
      "text/plain": [
       "model.safetensors:   0%|          | 0.00/1.63G [00:00<?, ?B/s]"
      ]
     },
     "metadata": {},
     "output_type": "display_data"
    },
    {
     "data": {
      "application/vnd.jupyter.widget-view+json": {
       "model_id": "c45f221df5d747f28d607dcaa53daa35",
       "version_major": 2,
       "version_minor": 0
      },
      "text/plain": [
       "generation_config.json:   0%|          | 0.00/363 [00:00<?, ?B/s]"
      ]
     },
     "metadata": {},
     "output_type": "display_data"
    }
   ],
   "source": [
    "from transformers import BartTokenizer, BartForConditionalGeneration\n",
    "\n",
    "# Load the pre-trained BART model and tokenizer\n",
    "model_name = 'facebook/bart-large-cnn'\n",
    "tokenizer = BartTokenizer.from_pretrained(model_name)\n",
    "model = BartForConditionalGeneration.from_pretrained(model_name)\n",
    "\n",
    "def summarize(text):\n",
    "    # Encode the text and get the generated summary\n",
    "    inputs = tokenizer([text], max_length=1024, return_tensors='pt', truncation=True)\n",
    "    summary_ids = model.generate(inputs['input_ids'], max_length=150, min_length=40, length_penalty=2.0, num_beams=4, early_stopping=True)\n",
    "    return tokenizer.decode(summary_ids[0], skip_special_tokens=True)"
   ]
  },
  {
   "cell_type": "markdown",
   "id": "74890268",
   "metadata": {},
   "source": [
    "#### Saving the model"
   ]
  },
  {
   "cell_type": "code",
   "execution_count": 326,
   "id": "de92ff04",
   "metadata": {},
   "outputs": [
    {
     "data": {
      "text/plain": [
       "('D:/s9/NLP/project2_app/NLP_project2_app/saved_bart_model\\\\tokenizer_config.json',\n",
       " 'D:/s9/NLP/project2_app/NLP_project2_app/saved_bart_model\\\\special_tokens_map.json',\n",
       " 'D:/s9/NLP/project2_app/NLP_project2_app/saved_bart_model\\\\vocab.txt',\n",
       " 'D:/s9/NLP/project2_app/NLP_project2_app/saved_bart_model\\\\added_tokens.json',\n",
       " 'D:/s9/NLP/project2_app/NLP_project2_app/saved_bart_model\\\\tokenizer.json')"
      ]
     },
     "execution_count": 326,
     "metadata": {},
     "output_type": "execute_result"
    }
   ],
   "source": [
    "#model.save_pretrained('D:/s9/NLP/project2_app/NLP_project2_app/saved_bart_model')\n",
    "#tokenizer.save_pretrained('D:/s9/NLP/project2_app/NLP_project2_app/saved_bart_model')"
   ]
  },
  {
   "cell_type": "markdown",
   "id": "071f99b7",
   "metadata": {},
   "source": [
    "future loading"
   ]
  },
  {
   "cell_type": "code",
   "execution_count": 327,
   "id": "af6e3924",
   "metadata": {},
   "outputs": [],
   "source": [
    "#model = BartForConditionalGeneration.from_pretrained('saved_bart_model')\n",
    "#tokenizer = BartTokenizer.from_pretrained('saved_bart_model')"
   ]
  },
  {
   "cell_type": "markdown",
   "id": "33ba2b74",
   "metadata": {},
   "source": [
    "### Trying out the summarization (this process took hours to complete)"
   ]
  },
  {
   "cell_type": "code",
   "execution_count": 141,
   "id": "6e7a6bc9",
   "metadata": {},
   "outputs": [],
   "source": [
    "book_df['summary_summary'] = book_df['cleaned_summary'].apply(summarize)"
   ]
  },
  {
   "cell_type": "code",
   "execution_count": 148,
   "id": "840b40bd",
   "metadata": {
    "scrolled": true
   },
   "outputs": [
    {
     "data": {
      "text/plain": [
       "'Harvard symbologist Robert Langdon is awakened by a phone call in the dead of the night. The elderly curator of the Louvre has been murdered inside the museum. Langdon and gifted French cryptologist Sophie Neveu sort through the bizarre riddles.'"
      ]
     },
     "execution_count": 148,
     "metadata": {},
     "output_type": "execute_result"
    }
   ],
   "source": [
    "book_df['summary_summary'].iloc[10]"
   ]
  },
  {
   "cell_type": "code",
   "execution_count": 147,
   "id": "a2895f5e",
   "metadata": {},
   "outputs": [
    {
     "data": {
      "text/plain": [
       "'ISBN 9780307277671 moved to this edition.While in Paris, Harvard symbologist Robert Langdon is awakened by a phone call in the dead of the night. The elderly curator of the Louvre has been murdered inside the museum, his body covered in baffling symbols. As Langdon and gifted French cryptologist Sophie Neveu sort through the bizarre riddles, they are stunned to discover a trail of clues hidden in the works of Leonardo da Vinci—clues visible for all to see and yet ingeniously disguised by the painter.Even more startling, the late curator was involved in the Priory of Sion—a secret society whose members included Sir Isaac Newton, Victor Hugo, and Da Vinci—and he guarded a breathtaking historical secret. Unless Langdon and Neveu can decipher the labyrinthine puzzle—while avoiding the faceless adversary who shadows their every move—the explosive, ancient truth will be lost forever.'"
      ]
     },
     "execution_count": 147,
     "metadata": {},
     "output_type": "execute_result"
    }
   ],
   "source": [
    "book_df['cleaned_summary'].iloc[10]"
   ]
  },
  {
   "cell_type": "markdown",
   "id": "f8ac9885",
   "metadata": {},
   "source": [
    "### The models effectively shortens the default summary, not bad !"
   ]
  },
  {
   "cell_type": "markdown",
   "id": "0aa16e4b",
   "metadata": {},
   "source": [
    "## TF-IDF for book recommendation based on similarity"
   ]
  },
  {
   "cell_type": "code",
   "execution_count": 145,
   "id": "ee8425c3",
   "metadata": {},
   "outputs": [],
   "source": [
    "#file_path = 'D:/s9/NLP/projet3/goodreads_reviews/1000_best_books_summary.csv'\n",
    "\n",
    "# Save the DataFrame to a CSV file\n",
    "#book_df.to_csv(file_path, index=False)"
   ]
  },
  {
   "cell_type": "markdown",
   "id": "681dc1ff",
   "metadata": {},
   "source": [
    "### Loading the vectorizer, then fitting on the summaries"
   ]
  },
  {
   "cell_type": "code",
   "execution_count": 460,
   "id": "b7254c65",
   "metadata": {},
   "outputs": [],
   "source": [
    "book_df['cleaned_summary_tokenized'] = book_df['cleaned_summary'].apply(clean_text)"
   ]
  },
  {
   "cell_type": "code",
   "execution_count": 461,
   "id": "24e6c517",
   "metadata": {},
   "outputs": [],
   "source": [
    "tfidf_vectorizer_similar_book_optimized = TfidfVectorizer(stop_words='english')\n",
    "tfidf_matrix_similar_book_optimized = tfidf_vectorizer_similar_book_optimized.fit_transform(book_df['cleaned_summary_tokenized'])"
   ]
  },
  {
   "cell_type": "code",
   "execution_count": 419,
   "id": "327b2925",
   "metadata": {},
   "outputs": [
    {
     "data": {
      "text/plain": [
       "['D:/s9/NLP/project2_app/NLP_project2_app/tfidf_vectorizer_similar_book.joblib']"
      ]
     },
     "execution_count": 419,
     "metadata": {},
     "output_type": "execute_result"
    }
   ],
   "source": [
    "#joblib.dump(tfidf_vectorizer_similar_book, 'D:/s9/NLP/project2_app/NLP_project2_app/tfidf_vectorizer_similar_book.joblib')"
   ]
  },
  {
   "cell_type": "code",
   "execution_count": 329,
   "id": "76d5dc2a",
   "metadata": {},
   "outputs": [],
   "source": [
    "#tfidf_vectorizer_similar_book_optimized = joblib.load('tfidf_vectorizer.joblib')"
   ]
  },
  {
   "cell_type": "code",
   "execution_count": 463,
   "id": "42eff850",
   "metadata": {},
   "outputs": [],
   "source": [
    "# Function to vectorize the user input \n",
    "def transform_query_tokenized(query):\n",
    "    query = clean_text(query)\n",
    "    query_tfidf = tfidf_vectorizer_similar_book_optimized.transform([query])\n",
    "    return query_tfidf"
   ]
  },
  {
   "cell_type": "markdown",
   "id": "f79e000a",
   "metadata": {},
   "source": [
    "#### Finding the closest summaries to the query by cosine similarity in the top 1000 books summaries, then displaying the name of the books, the similarity and the summary"
   ]
  },
  {
   "cell_type": "markdown",
   "id": "8cdc924c",
   "metadata": {},
   "source": [
    "the used summary is the sulmmary generated by the BART model from before, which is shorter and quick to read"
   ]
  },
  {
   "cell_type": "code",
   "execution_count": 467,
   "id": "8fb01597",
   "metadata": {},
   "outputs": [],
   "source": [
    "def find_similar_books_tokenized(query, tfidf_matrix, book_names, book_summaries, top_n):\n",
    "    query_tfidf = transform_query_tokenized(query)\n",
    "    cosine_similarities = cosine_similarity(query_tfidf, tfidf_matrix).flatten()\n",
    "    related_docs_indices = cosine_similarities.argsort()[:-top_n-1:-1]\n",
    "    return [(book_names[i], cosine_similarities[i], book_summaries[i]) for i in related_docs_indices]"
   ]
  },
  {
   "cell_type": "code",
   "execution_count": 475,
   "id": "083bcd25",
   "metadata": {
    "scrolled": true
   },
   "outputs": [
    {
     "data": {
      "text/html": [
       "<div>\n",
       "<style scoped>\n",
       "    .dataframe tbody tr th:only-of-type {\n",
       "        vertical-align: middle;\n",
       "    }\n",
       "\n",
       "    .dataframe tbody tr th {\n",
       "        vertical-align: top;\n",
       "    }\n",
       "\n",
       "    .dataframe thead th {\n",
       "        text-align: right;\n",
       "    }\n",
       "</style>\n",
       "<table border=\"1\" class=\"dataframe\">\n",
       "  <thead>\n",
       "    <tr style=\"text-align: right;\">\n",
       "      <th></th>\n",
       "      <th>book_name</th>\n",
       "      <th>average_rating</th>\n",
       "      <th>review_sentiment</th>\n",
       "      <th>cleaned_summary</th>\n",
       "      <th>book_summary_cleaned</th>\n",
       "      <th>summary_summary</th>\n",
       "      <th>name_vector</th>\n",
       "      <th>tokenized_name</th>\n",
       "      <th>book_summary_cleaned_no_ponct</th>\n",
       "      <th>book_summary_cleaned_pour_de_vrai</th>\n",
       "      <th>cleaned_summary_tokenized</th>\n",
       "    </tr>\n",
       "  </thead>\n",
       "  <tbody>\n",
       "    <tr>\n",
       "      <th>0</th>\n",
       "      <td>Harry Potter and the Half-Blood Prince</td>\n",
       "      <td>4.58</td>\n",
       "      <td>9.368922</td>\n",
       "      <td>It is the middle of the summer, but there is a...</td>\n",
       "      <td>[It, is, the, middle, of, the, summer, ,, but,...</td>\n",
       "      <td>Harry Potter is waiting nervously in his bedro...</td>\n",
       "      <td>[-0.80485755, 0.5509722, -0.10115806, 0.535483...</td>\n",
       "      <td>[harry, potter, and, the, half-blood, prince]</td>\n",
       "      <td>[middle, summer, unseasonal, mist, pressing, w...</td>\n",
       "      <td>middle summer unseasonal mist pressing windowp...</td>\n",
       "      <td>middle summer unseasonal mist pressing windowp...</td>\n",
       "    </tr>\n",
       "  </tbody>\n",
       "</table>\n",
       "</div>"
      ],
      "text/plain": [
       "                                book_name  average_rating  review_sentiment  \\\n",
       "0  Harry Potter and the Half-Blood Prince            4.58          9.368922   \n",
       "\n",
       "                                     cleaned_summary  \\\n",
       "0  It is the middle of the summer, but there is a...   \n",
       "\n",
       "                                book_summary_cleaned  \\\n",
       "0  [It, is, the, middle, of, the, summer, ,, but,...   \n",
       "\n",
       "                                     summary_summary  \\\n",
       "0  Harry Potter is waiting nervously in his bedro...   \n",
       "\n",
       "                                         name_vector  \\\n",
       "0  [-0.80485755, 0.5509722, -0.10115806, 0.535483...   \n",
       "\n",
       "                                  tokenized_name  \\\n",
       "0  [harry, potter, and, the, half-blood, prince]   \n",
       "\n",
       "                       book_summary_cleaned_no_ponct  \\\n",
       "0  [middle, summer, unseasonal, mist, pressing, w...   \n",
       "\n",
       "                   book_summary_cleaned_pour_de_vrai  \\\n",
       "0  middle summer unseasonal mist pressing windowp...   \n",
       "\n",
       "                           cleaned_summary_tokenized  \n",
       "0  middle summer unseasonal mist pressing windowp...  "
      ]
     },
     "execution_count": 475,
     "metadata": {},
     "output_type": "execute_result"
    }
   ],
   "source": [
    "book_df.head(1)"
   ]
  },
  {
   "cell_type": "markdown",
   "id": "e6d15b76",
   "metadata": {},
   "source": [
    "#### Then we test the model"
   ]
  },
  {
   "cell_type": "code",
   "execution_count": 162,
   "id": "64dfb99e",
   "metadata": {
    "scrolled": false
   },
   "outputs": [
    {
     "name": "stdout",
     "output_type": "stream",
     "text": [
      "Recommended Book: Fantastic Beasts and Where to Find Them\n",
      "Score: 0.17752610238959593\n",
      "Summary: A copy of Fantastic Beasts and Where to Find Them resides on almost every wizarding household in the country. Now, for a limited period only, Muggles too have the chance to discover where the Quintaped lives. Proceeds from the sale of this book will go to improving and saving the lives of children around the world.\n",
      "\n",
      "Recommended Book: The Demon King\n",
      "Score: 0.16017993361058674\n",
      "Summary: Reformed thief Han Alister will do almost anything to eke out a living for his family. Raisa ana'Marianna, princess heir of the Fells, has her own battles to fight. The Seven Realms tremble when the lives of Hans and Raisa collide.\n",
      "\n",
      "Recommended Book: Harry Potter and the Sorcerer's Stone\n",
      "Score: 0.1416414074935895\n",
      "Summary: Harry Potter has no idea how famous he is. That's because he's being raised by his miserable aunt and uncle who are terrified Harry will learn that he's really a wizard, just as his parents were. But everything changes when Harry is summoned to attend an infamous school for wizards.\n",
      "\n"
     ]
    }
   ],
   "source": [
    "user_query = \"a book about wizards\"\n",
    "recommended_books = find_similar_books_tokenized(user_query, tfidf_matrix_similar_book_optimized, book_df['book_name'], book_df['summary_summary'], 3)\n",
    "\n",
    "for book, score, summary in recommended_books:\n",
    "    print(f\"Recommended Book: {book}\\nScore: {score}\")\n",
    "    print(f\"Summary: {summary}\\n\")"
   ]
  },
  {
   "cell_type": "markdown",
   "id": "45c2c8c4",
   "metadata": {},
   "source": [
    "### The results are great ! The model looks to be performing as we intend."
   ]
  },
  {
   "cell_type": "markdown",
   "id": "fd72d690",
   "metadata": {},
   "source": [
    "## Question answering"
   ]
  },
  {
   "cell_type": "code",
   "execution_count": 181,
   "id": "efa00088",
   "metadata": {},
   "outputs": [
    {
     "data": {
      "application/vnd.jupyter.widget-view+json": {
       "model_id": "c9f15c487c43493ba19b43f617aa8e51",
       "version_major": 2,
       "version_minor": 0
      },
      "text/plain": [
       "config.json:   0%|          | 0.00/451 [00:00<?, ?B/s]"
      ]
     },
     "metadata": {},
     "output_type": "display_data"
    },
    {
     "name": "stderr",
     "output_type": "stream",
     "text": [
      "C:\\Users\\timot\\anaconda3\\lib\\site-packages\\huggingface_hub\\file_download.py:149: UserWarning: `huggingface_hub` cache-system uses symlinks by default to efficiently store duplicated files but your machine does not support them in C:\\Users\\timot\\.cache\\huggingface\\hub\\models--distilbert-base-uncased-distilled-squad. Caching files will still work but in a degraded version that might require more space on your disk. This warning can be disabled by setting the `HF_HUB_DISABLE_SYMLINKS_WARNING` environment variable. For more details, see https://huggingface.co/docs/huggingface_hub/how-to-cache#limitations.\n",
      "To support symlinks on Windows, you either need to activate Developer Mode or to run Python as an administrator. In order to see activate developer mode, see this article: https://docs.microsoft.com/en-us/windows/apps/get-started/enable-your-device-for-development\n",
      "  warnings.warn(message)\n"
     ]
    },
    {
     "data": {
      "application/vnd.jupyter.widget-view+json": {
       "model_id": "5eef329945214899ad8da38608eef6b5",
       "version_major": 2,
       "version_minor": 0
      },
      "text/plain": [
       "model.safetensors:   0%|          | 0.00/265M [00:00<?, ?B/s]"
      ]
     },
     "metadata": {},
     "output_type": "display_data"
    },
    {
     "data": {
      "application/vnd.jupyter.widget-view+json": {
       "model_id": "0383eb27393742479bc0ba32e25ab19c",
       "version_major": 2,
       "version_minor": 0
      },
      "text/plain": [
       "tokenizer_config.json:   0%|          | 0.00/28.0 [00:00<?, ?B/s]"
      ]
     },
     "metadata": {},
     "output_type": "display_data"
    },
    {
     "data": {
      "application/vnd.jupyter.widget-view+json": {
       "model_id": "7bc5cfaf5cbd44b293dca29aa06eb385",
       "version_major": 2,
       "version_minor": 0
      },
      "text/plain": [
       "vocab.txt:   0%|          | 0.00/232k [00:00<?, ?B/s]"
      ]
     },
     "metadata": {},
     "output_type": "display_data"
    },
    {
     "data": {
      "application/vnd.jupyter.widget-view+json": {
       "model_id": "f48260d9a7104f1ead4da7c6da3f9b99",
       "version_major": 2,
       "version_minor": 0
      },
      "text/plain": [
       "tokenizer.json:   0%|          | 0.00/466k [00:00<?, ?B/s]"
      ]
     },
     "metadata": {},
     "output_type": "display_data"
    }
   ],
   "source": [
    "# Load the pre-trained DistilBERT QA model\n",
    "qa_pipeline = pipeline(\"question-answering\", model=\"distilbert-base-uncased-distilled-squad\", tokenizer=\"distilbert-base-uncased-distilled-squad\")\n"
   ]
  },
  {
   "cell_type": "code",
   "execution_count": 331,
   "id": "38834dd7",
   "metadata": {},
   "outputs": [],
   "source": [
    "QA_BART_model = qa_pipeline.model\n",
    "QA_BART_tokenizer = qa_pipeline.tokenizer"
   ]
  },
  {
   "cell_type": "code",
   "execution_count": 333,
   "id": "fa989489",
   "metadata": {
    "scrolled": true
   },
   "outputs": [
    {
     "data": {
      "text/plain": [
       "('D:/s9/NLP/project2_app/NLP_project2_app/saved_distilbert_qa_model\\\\tokenizer_config.json',\n",
       " 'D:/s9/NLP/project2_app/NLP_project2_app/saved_distilbert_qa_model\\\\special_tokens_map.json',\n",
       " 'D:/s9/NLP/project2_app/NLP_project2_app/saved_distilbert_qa_model\\\\vocab.txt',\n",
       " 'D:/s9/NLP/project2_app/NLP_project2_app/saved_distilbert_qa_model\\\\added_tokens.json',\n",
       " 'D:/s9/NLP/project2_app/NLP_project2_app/saved_distilbert_qa_model\\\\tokenizer.json')"
      ]
     },
     "execution_count": 333,
     "metadata": {},
     "output_type": "execute_result"
    }
   ],
   "source": [
    "#QA_BART_model.save_pretrained('D:/s9/NLP/project2_app/NLP_project2_app/saved_distilbert_qa_model')\n",
    "#QA_BART_tokenizer.save_pretrained('D:/s9/NLP/project2_app/NLP_project2_app/saved_distilbert_qa_model')"
   ]
  },
  {
   "cell_type": "markdown",
   "id": "5512326b",
   "metadata": {},
   "source": [
    "loading later with"
   ]
  },
  {
   "cell_type": "code",
   "execution_count": null,
   "id": "5c836cd7",
   "metadata": {},
   "outputs": [],
   "source": [
    "#model = DistilBertForQuestionAnswering.from_pretrained('saved_distilbert_qa_model')\n",
    "#tokenizer = DistilBertTokenizer.from_pretrained('saved_distilbert_qa_model')\n",
    "\n",
    "# Reconstruct the pipeline\n",
    "#qa_pipeline = pipeline(\"question-answering\", model=model, tokenizer=tokenizer)"
   ]
  },
  {
   "cell_type": "code",
   "execution_count": 182,
   "id": "34a15eb1",
   "metadata": {},
   "outputs": [],
   "source": [
    "# Define the function so the model gets the context and question\n",
    "def answer_question(question, context):\n",
    "    result = qa_pipeline({'question': question, 'context': context})\n",
    "    return result['answer']"
   ]
  },
  {
   "cell_type": "markdown",
   "id": "c14d116f",
   "metadata": {},
   "source": [
    "#### Here we're implementing a tf-idf so if the user misspells a book name it looks automatically in the book names column to closest names from the input, and asks the user if he meant other book names"
   ]
  },
  {
   "cell_type": "code",
   "execution_count": 231,
   "id": "f81193a4",
   "metadata": {},
   "outputs": [],
   "source": [
    "new_tfidf_vectorizer = TfidfVectorizer()\n",
    "new_tfidf_matrix = new_tfidf_vectorizer.fit_transform(book_df['book_name'])"
   ]
  },
  {
   "cell_type": "code",
   "execution_count": 330,
   "id": "d1fb7426",
   "metadata": {},
   "outputs": [
    {
     "data": {
      "text/plain": [
       "['D:/s9/NLP/project2_app/NLP_project2_app/QA_tfidf_vectorizer.joblib']"
      ]
     },
     "execution_count": 330,
     "metadata": {},
     "output_type": "execute_result"
    }
   ],
   "source": [
    "#joblib.dump(new_tfidf_vectorizer, 'D:/s9/NLP/project2_app/NLP_project2_app/QA_tfidf_vectorizer.joblib')"
   ]
  },
  {
   "cell_type": "code",
   "execution_count": 232,
   "id": "8243c40d",
   "metadata": {},
   "outputs": [],
   "source": [
    "# Function for finding the closest book to user missinput by cosine similarity\n",
    "def find_closest_books(input_name, new_tfidf_matrix, top_n=3):\n",
    "    # Vectorize the input using the same TF-IDF vectorizer\n",
    "    input_vector = new_tfidf_vectorizer.transform([input_name])\n",
    "\n",
    "    # Compute cosine similarity between the input and all book names\n",
    "    cosine_similarities = cosine_similarity(input_vector, new_tfidf_matrix).flatten()\n",
    "\n",
    "    # Get the indices of the top_n closest books\n",
    "    closest_indices = np.argsort(-cosine_similarities)[:top_n]\n",
    "\n",
    "    # Get the names of the top_n closest books\n",
    "    closest_books = book_df['book_name'].iloc[closest_indices].tolist()\n",
    "    return closest_books\n"
   ]
  },
  {
   "cell_type": "markdown",
   "id": "812f2766",
   "metadata": {},
   "source": [
    "### Function to have the back and forth question/answer from the user with the model"
   ]
  },
  {
   "cell_type": "code",
   "execution_count": 240,
   "id": "a8ee4058",
   "metadata": {},
   "outputs": [],
   "source": [
    "def interactive_qa_t5(df):\n",
    "    while True:\n",
    "        book_name = input(\"Enter a book name to ask about (or 'exit' to quit): \").strip()\n",
    "        if book_name.lower() == 'exit':\n",
    "            break\n",
    "\n",
    "        if book_name not in df['book_name'].values:\n",
    "            closest_books = find_closest_books(book_name, new_tfidf_matrix, top_n=5)\n",
    "            print(\"Did you mean one of these books?\")\n",
    "            for name in closest_books:\n",
    "                print(f\"- {name}\")\n",
    "            book_name = input(\"Please enter the correct book name (or 'exit' to quit): \").strip()\n",
    "            if book_name.lower() == 'exit':\n",
    "                break\n",
    "\n",
    "        if book_name in df['book_name'].values:\n",
    "            summary = df[df['book_name'] == book_name]['cleaned_summary'].iloc[0]\n",
    "            question = input(\"What is your question about the book? \")\n",
    "            answer = answer_question(question, summary)\n",
    "            print(f\"Answer: {answer}\\n\")\n",
    "        else:\n",
    "            print(\"Book not found. Please try again.\\n\")"
   ]
  },
  {
   "cell_type": "markdown",
   "id": "155720c8",
   "metadata": {},
   "source": [
    "### Example interaction"
   ]
  },
  {
   "cell_type": "code",
   "execution_count": 243,
   "id": "ac65cca9",
   "metadata": {},
   "outputs": [
    {
     "name": "stdout",
     "output_type": "stream",
     "text": [
      "Enter a book name to ask about (or 'exit' to quit): little woman\n",
      "Did you mean one of these books?\n",
      "- A Little Life\n",
      "- The Little Prince\n",
      "- How to Be a Woman\n",
      "- The Woman in Cabin 10\n",
      "- Little Women\n",
      "Please enter the correct book name (or 'exit' to quit): \n",
      "Book not found. Please try again.\n",
      "\n",
      "Enter a book name to ask about (or 'exit' to quit): Little Women\n",
      "What is your question about the book? Where does the story take place?\n",
      "Answer: New England\n",
      "\n",
      "Enter a book name to ask about (or 'exit' to quit): Little Women\n",
      "What is your question about the book? Who is the main character\n",
      "Answer: Jo, tragically frail Beth, beautiful Meg, and romantic, spoiled Amy\n",
      "\n",
      "Enter a book name to ask about (or 'exit' to quit): Is it a book made for children?\n",
      "Did you mean one of these books?\n",
      "- This Is Where It Ends\n",
      "- Made You Up\n",
      "- Miss Peregrine's Home for Peculiar Children\n",
      "- The Book Thief\n",
      "- The Graveyard Book\n",
      "Please enter the correct book name (or 'exit' to quit): exit\n"
     ]
    }
   ],
   "source": [
    "# Run the interactive QA\n",
    "interactive_qa_t5(book_df)"
   ]
  }
 ],
 "metadata": {
  "kernelspec": {
   "display_name": "Python 3 (ipykernel)",
   "language": "python",
   "name": "python3"
  },
  "language_info": {
   "codemirror_mode": {
    "name": "ipython",
    "version": 3
   },
   "file_extension": ".py",
   "mimetype": "text/x-python",
   "name": "python",
   "nbconvert_exporter": "python",
   "pygments_lexer": "ipython3",
   "version": "3.9.7"
  }
 },
 "nbformat": 4,
 "nbformat_minor": 5
}
